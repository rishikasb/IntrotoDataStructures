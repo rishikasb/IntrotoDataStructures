{
  "nbformat": 4,
  "nbformat_minor": 0,
  "metadata": {
    "colab": {
      "name": "Session #6: Data Structures Series (Women Who Code Python).ipynb",
      "provenance": [],
      "collapsed_sections": []
    },
    "kernelspec": {
      "name": "python3",
      "display_name": "Python 3"
    },
    "language_info": {
      "name": "python"
    }
  },
  "cells": [
    {
      "cell_type": "markdown",
      "metadata": {
        "id": "7QfRFpXCTnbX"
      },
      "source": [
        "# Intro to Data Structures: Ace the Technical Interview\n",
        "\n",
        "## Session 6: Trees, Binary Trees, Binary Search Tree"
      ]
    },
    {
      "cell_type": "markdown",
      "metadata": {
        "id": "vdBW00qXTtzx"
      },
      "source": [
        "### Agenda for Today:\n",
        "\n",
        "\n",
        "*   Node Creation\n",
        "*   BST Creation + Insertion\n",
        "*   Traversal\n",
        "*   Practice Question: Search an item from a Binary Search Tree\n",
        "\n"
      ]
    },
    {
      "cell_type": "markdown",
      "metadata": {
        "id": "wpRNgp9nTzg4"
      },
      "source": [
        "\n",
        "\n",
        "---\n",
        "\n",
        "\n",
        "\n",
        "---\n",
        "\n"
      ]
    },
    {
      "cell_type": "markdown",
      "metadata": {
        "id": "-5Ya0UGlT5oj"
      },
      "source": [
        "#### Node Creation:"
      ]
    },
    {
      "cell_type": "markdown",
      "metadata": {
        "id": "iQH6VmKnETXk"
      },
      "source": [
        "Implement a `Node` class which has the follwing attributes\n",
        "* `data` contains the data\n",
        "* `left` pointer that points to the left subtree\n",
        "* `right` pointer that points to the right subtree\n",
        "\n",
        "* Initialize `data`, `left` and `right` in initializer. Both `left` and `right` has default value of `None`.\n",
        "* Implement `__str__()` method to return string with format `Node(data, left.data, right.data)`"
      ]
    },
    {
      "cell_type": "code",
      "metadata": {
        "id": "Ksaw5SLzTSMO"
      },
      "source": [
        "# Create a Class (a template) to represent an Element or Node of a Tree\n",
        "\n",
        "class Node:\n",
        "  def __init__(self,data,left=None,right=None):\n",
        "    self.left = left\n",
        "    self.data = data         # stores the value of the element/node\n",
        "    self.right = right        # stores a reference/pointer to the next node\n",
        "\n",
        "  def __str__(self):\n",
        "      toReturn=\"Node(data:{},left:{},right:{})\".format(self.data,self.left.data if self.left else None,self.right.data if self.right else None)\n",
        "      return toReturn"
      ],
      "execution_count": null,
      "outputs": []
    },
    {
      "cell_type": "code",
      "metadata": {
        "colab": {
          "base_uri": "https://localhost:8080/"
        },
        "id": "6M9dBOZ5D5oN",
        "outputId": "e94ad127-ad3d-4cec-fbc4-ad2cf58d1322"
      },
      "source": [
        "l = Node(5)\n",
        "r = Node(15)\n",
        "n1 = Node(10, l, r)\n",
        "print(n1)\n",
        "print(n1.left)"
      ],
      "execution_count": null,
      "outputs": [
        {
          "output_type": "stream",
          "text": [
            "Node(data:10,left:5,right:15)\n",
            "Node(data:5,left:None,right:None)\n"
          ],
          "name": "stdout"
        }
      ]
    },
    {
      "cell_type": "markdown",
      "metadata": {
        "id": "qIoHXLOJEzn0"
      },
      "source": [
        "#### BST Creation + Insertion:"
      ]
    },
    {
      "cell_type": "markdown",
      "metadata": {
        "id": "oT7NRQW_Epqa"
      },
      "source": [
        "Implement a class BinarySearchTree.\n",
        "\n",
        "It has a root attribute pointing to its root node.\n",
        "Define an `add()` method to add a val to the tree.\n",
        "\n",
        "The operation to insert a value is a recursive process at each node of the tree. \n",
        "* First we compare with the root node.\n",
        "* If root node is a None, put it in root node.\n",
        "* If the value is greater then the root node, recurse into right subtree.\n",
        "* If the value is less than the root node, recurse into left subtree.\n",
        "* Recurse until it reach a leaf node with None value, and add the node to the tree."
      ]
    },
    {
      "cell_type": "code",
      "metadata": {
        "id": "HB5gZevX3Rn8",
        "colab": {
          "base_uri": "https://localhost:8080/"
        },
        "outputId": "f7b7e134-8938-4d8c-a111-3063d6c188d5"
      },
      "source": [
        "class BinarySearchTree:\n",
        "    def __init__(self,root=None):\n",
        "        self.root=root\n",
        "        \n",
        "    def insert(self,root,val):\n",
        "        if val<root.data:                                 # the value is less than current data\n",
        "            if root.left==None:                           # if there is no value in the left subtree\n",
        "                root.left=Node(val)                       # insert new value into left subtree\n",
        "            else:\n",
        "                self.insert(root.left,val)                # recurse into left subtree\n",
        "        else:                                             # the value is more than current data or equals to\n",
        "            if root.right==None:                          # if there is no value in the right subtree\n",
        "                root.right=Node(val)                      # insert new value into right subtree\n",
        "            else:\n",
        "                self.insert(self.root.right,val)          # insert new value into right subtree\n",
        "\n",
        "    def add(self,val):\n",
        "        if self.root==None:\n",
        "            self.root=Node(val)\n",
        "        else:\n",
        "            self.insert(self.root,val)\n",
        "    \n",
        "    \n",
        "                \n",
        "t = BinarySearchTree()\n",
        "t.add(10)\n",
        "t.add(5)\n",
        "t.add(15)\n",
        "t.add(1)\n",
        "print(t.root)\n",
        "print(t.root.left)\n",
        "print(t.root.right)"
      ],
      "execution_count": null,
      "outputs": [
        {
          "output_type": "stream",
          "text": [
            "Node(data:10,left:5,right:15)\n",
            "Node(data:5,left:1,right:None)\n",
            "Node(data:15,left:None,right:None)\n"
          ],
          "name": "stdout"
        }
      ]
    },
    {
      "cell_type": "markdown",
      "metadata": {
        "id": "BKxG6wjOT-Bb"
      },
      "source": [
        "\n",
        "\n",
        "---\n",
        "\n",
        "\n",
        "\n",
        "---\n",
        "\n"
      ]
    },
    {
      "cell_type": "markdown",
      "metadata": {
        "id": "13EoG-b1T_k8"
      },
      "source": [
        "#### Traversal:"
      ]
    },
    {
      "cell_type": "markdown",
      "metadata": {
        "id": "JYViarAzFwL3"
      },
      "source": [
        "Define an `inorder` method that perform an in-order traversal of the tree \n",
        "\n",
        "[In-order Traversal ](https://leetcode.com/problems/binary-tree-inorder-traversal/)\n",
        "* Traverse the left subtree\n",
        "* Visit the root.\n",
        "* Traverse the right subtree\n",
        "\n",
        "In-order traversal gives nodes in increasing order."
      ]
    },
    {
      "cell_type": "code",
      "metadata": {
        "id": "GS14mvtxAsdT"
      },
      "source": [
        "# Time:  O(n)\n",
        "# Space: O(1)\n",
        "\n",
        "class TreeNode(object):\n",
        "    def __init__(self, x):\n",
        "        self.val = x\n",
        "        self.left = None\n",
        "        self.right = None\n",
        "\n",
        "class Solution(object):\n",
        "    def inorderTraversal(self, root):\n",
        "        \"\"\"\n",
        "        :type root: TreeNode\n",
        "        :rtype: List[int]\n",
        "        \"\"\"\n",
        "        result, curr = [], root\n",
        "        while curr:\n",
        "            if curr.left is None:\n",
        "                result.append(curr.val)\n",
        "                curr = curr.right\n",
        "            else:\n",
        "                node = curr.left\n",
        "                while node.right and node.right != curr:\n",
        "                    node = node.right\n",
        "\n",
        "                if node.right is None:\n",
        "                    node.right = curr\n",
        "                    curr = curr.left\n",
        "                else:\n",
        "                    result.append(curr.val)\n",
        "                    node.right = None\n",
        "                    curr = curr.right\n",
        "\n",
        "        return result"
      ],
      "execution_count": null,
      "outputs": []
    },
    {
      "cell_type": "markdown",
      "metadata": {
        "id": "-Ilaguv2GXf2"
      },
      "source": [
        "Define a `preorder` method that perform a pre-order traversal of the tree \n",
        "\n",
        "[Pre-order Traversal ](https://https://leetcode.com/problems/binary-tree-preorder-traversal/)\n",
        "* Visit the root.\n",
        "* Traverse the left subtree\n",
        "* Traverse the right subtree\n",
        "\n",
        "Pre-order traversal is used to create a copy of the tree "
      ]
    },
    {
      "cell_type": "code",
      "metadata": {
        "colab": {
          "base_uri": "https://localhost:8080/"
        },
        "id": "Dcuc-CfHBL16",
        "outputId": "1b1f189e-cf40-4db6-a843-3f98df5946d7"
      },
      "source": [
        "# Time:  O(n)\n",
        "# Space: O(1)\n",
        "\n",
        "class TreeNode(object):\n",
        "    def __init__(self, x):\n",
        "        self.val = x\n",
        "        self.left = None\n",
        "        self.right = None\n",
        "\n",
        "\n",
        "# Solution1\n",
        "class Solution(object):\n",
        "    def preorderTraversal(self, root):\n",
        "        \"\"\"\n",
        "        :type root: TreeNode\n",
        "        :rtype: List[int]\n",
        "        \"\"\"\n",
        "        result, curr = [], root\n",
        "        while curr:\n",
        "            if curr.left is None:\n",
        "                result.append(curr.val)\n",
        "                curr = curr.right\n",
        "            else:\n",
        "                node = curr.left\n",
        "                while node.right and node.right != curr:\n",
        "                    node = node.right\n",
        "\n",
        "                if node.right is None:\n",
        "                    result.append(curr.val)\n",
        "                    node.right = curr\n",
        "                    curr = curr.left\n",
        "                else:\n",
        "                    node.right = None\n",
        "                    curr = curr.right\n",
        "\n",
        "        return result"
      ],
      "execution_count": null,
      "outputs": [
        {
          "output_type": "stream",
          "text": [
            "10\n",
            "5\n",
            "1\n",
            "7\n",
            "15\n",
            "12\n",
            "17\n"
          ],
          "name": "stdout"
        }
      ]
    },
    {
      "cell_type": "code",
      "metadata": {
        "id": "P4FMK6M2Vlgy"
      },
      "source": [
        "# Time:  O(n)\n",
        "# Space: O(h)\n",
        "\n",
        "class TreeNode(object):\n",
        "    def __init__(self, x):\n",
        "        self.val = x\n",
        "        self.left = None\n",
        "        self.right = None\n",
        "\n",
        "# Solution2\n",
        "class Solution2(object):\n",
        "    def preorderTraversal(self, root):\n",
        "        \"\"\"\n",
        "        :type root: TreeNode\n",
        "        :rtype: List[int]\n",
        "        \"\"\"\n",
        "        result, stack = [], [(root, False)]\n",
        "        while stack:\n",
        "            root, is_visited = stack.pop()\n",
        "            if root is None:\n",
        "                continue\n",
        "            if is_visited:\n",
        "                result.append(root.val)\n",
        "            else:\n",
        "                stack.append((root.right, False))\n",
        "                stack.append((root.left, False))\n",
        "                stack.append((root, True))\n",
        "        return result"
      ],
      "execution_count": null,
      "outputs": []
    },
    {
      "cell_type": "markdown",
      "metadata": {
        "id": "OGqZa9OJGtTq"
      },
      "source": [
        "Define a `postorder` method that perform a preorder traversal of the tree \n",
        "\n",
        "[Postorder Traversal ](https://leetcode.com/problems/binary-tree-postorder-traversal/)\n",
        "* Traverse the left subtree\n",
        "* Traverse the right subtree\n",
        "* Visit the root\n",
        "\n",
        "Postorder traversal is used to delete the tree "
      ]
    },
    {
      "cell_type": "code",
      "metadata": {
        "id": "_zu-ZUGhT-mg",
        "colab": {
          "base_uri": "https://localhost:8080/"
        },
        "outputId": "5dc8aa91-bead-4d29-bf1b-52386fbc700e"
      },
      "source": [
        "# Time:  O(n)\n",
        "# Space: O(1)\n",
        "\n",
        "class TreeNode(object):\n",
        "    def __init__(self, x):\n",
        "        self.val = x\n",
        "        self.left = None\n",
        "        self.right = None\n",
        "\n",
        "class Solution(object):\n",
        "    def postorderTraversal(self, root):\n",
        "        \"\"\"\n",
        "        :type root: TreeNode\n",
        "        :rtype: List[int]\n",
        "        \"\"\"\n",
        "        dummy = TreeNode(0)\n",
        "        dummy.left = root\n",
        "        result, cur = [], dummy\n",
        "        while cur:\n",
        "            if cur.left is None:\n",
        "                cur = cur.right\n",
        "            else:\n",
        "                node = cur.left\n",
        "                while node.right and node.right != cur:\n",
        "                    node = node.right\n",
        "\n",
        "                if node.right is None:\n",
        "                    node.right = cur\n",
        "                    cur = cur.left\n",
        "                else:\n",
        "                    result += self.traceBack(cur.left, node)\n",
        "                    node.right = None\n",
        "                    cur = cur.right\n",
        "\n",
        "        return result\n",
        "\n",
        "    def traceBack(self, frm, to):\n",
        "        result, cur = [], frm\n",
        "        while cur is not to:\n",
        "            result.append(cur.val)\n",
        "            cur = cur.right\n",
        "        result.append(to.val)\n",
        "        result.reverse()\n",
        "        return result"
      ],
      "execution_count": null,
      "outputs": [
        {
          "output_type": "stream",
          "text": [
            "1\n",
            "7\n",
            "5\n",
            "12\n",
            "20\n",
            "17\n",
            "15\n",
            "10\n"
          ],
          "name": "stdout"
        }
      ]
    },
    {
      "cell_type": "markdown",
      "metadata": {
        "id": "KG0Ru0MjUChz"
      },
      "source": [
        "\n",
        "\n",
        "---\n",
        "\n",
        "\n",
        "\n",
        "---\n",
        "\n"
      ]
    },
    {
      "cell_type": "markdown",
      "metadata": {
        "id": "ARrtPuWPEI13"
      },
      "source": [
        "### [Practice Question: Search an item from a Binary Search Tree](https://leetcode.com/problems/search-in-a-binary-search-tree/)\n",
        "\n",
        "You are given the **root** of a binary search tree (BST) and an integer **val**.\n",
        "\n",
        "Find the node in the BST that the node's value equals **val** and return the subtree rooted with that node. If such a node does not exist, return null.\n",
        "\n",
        "Example:\n",
        "\n",
        "![image.png](data:image/png;base64,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)\n",
        "\n",
        "Input: root = [4,2,7,1,3], val = 2\n",
        "\n",
        "Output: [2,1,3]"
      ]
    },
    {
      "cell_type": "code",
      "metadata": {
        "id": "rex5BmaFGs1c"
      },
      "source": [
        "# The task is to search a given value in Binary Search Tree\n",
        "\n",
        "# TIPS:\n",
        "# If the value is present at root, we return the root.\n",
        "# If the value is greater than root’s value, we recurse into the right subtree of root node.\n",
        "# Otherwise we recurse in the left subtree."
      ],
      "execution_count": null,
      "outputs": []
    },
    {
      "cell_type": "code",
      "metadata": {
        "id": "lhisrO4GETIJ",
        "colab": {
          "base_uri": "https://localhost:8080/",
          "height": 364
        },
        "outputId": "032cc042-73e4-419a-e9d6-478d5847e112"
      },
      "source": [
        "class BinarySearchTree:\n",
        "    def __init__(self,root=None):\n",
        "        self.root=root\n",
        "        \n",
        "# Recursive function to insert a key into a BST\n",
        "def insert(root, key):\n",
        "\n",
        "    # if the root is None, create a new node and return it\n",
        "    if root is None:\n",
        "        return Node(key)\n",
        "\n",
        "    # if the given key is less than the root node, recur for the left subtree\n",
        "    if key < root.data:\n",
        "        root.left = insert(root.left, key)\n",
        "\n",
        "    # if the given key is more than the root node, recur for the right subtree\n",
        "    else:\n",
        "        root.right = insert(root.right, key)\n",
        "\n",
        "    return root\n",
        "\n",
        "\n",
        "# Recursive function to search in a given BST\n",
        "def search(root, key, parent):\n",
        "\n",
        "    # if the key is not present in the key\n",
        "    if root is None:\n",
        "        print(\"Key Not found\")\n",
        "        return\n",
        "\n",
        "    # if the key is found\n",
        "    if root.data == key:\n",
        "\n",
        "        if parent is None:\n",
        "            print(\"The node with key\", key, \"is root node\")\n",
        "        elif key < parent.data:\n",
        "            print(\"The given key is the left node of the node with key\", parent.data)\n",
        "        else:\n",
        "            print(\"The given key is the right node of the node with key\", parent.data)\n",
        "\n",
        "        return\n",
        "\n",
        "    # if the given key is less than the root node, recur for the left subtree;\n",
        "    # otherwise, recur for the right subtree\n",
        "\n",
        "    if key < root.data:\n",
        "        search(root.left, key, root)\n",
        "    else:\n",
        "        search(root.right, key, root)\n",
        "            \n",
        "if __name__ == '__main__':\n",
        " \n",
        "    keys = [15, 10, 20, 8, 12, 16, 25]\n",
        " \n",
        "    root = None\n",
        "    for key in keys:\n",
        "        root = insert(root, key)\n",
        " \n",
        "    search(root, 8, None)"
      ],
      "execution_count": null,
      "outputs": [
        {
          "output_type": "error",
          "ename": "NameError",
          "evalue": "ignored",
          "traceback": [
            "\u001b[0;31m---------------------------------------------------------------------------\u001b[0m",
            "\u001b[0;31mNameError\u001b[0m                                 Traceback (most recent call last)",
            "\u001b[0;32m<ipython-input-3-f905954cc26c>\u001b[0m in \u001b[0;36m<module>\u001b[0;34m()\u001b[0m\n\u001b[1;32m     55\u001b[0m     \u001b[0mroot\u001b[0m \u001b[0;34m=\u001b[0m \u001b[0;32mNone\u001b[0m\u001b[0;34m\u001b[0m\u001b[0;34m\u001b[0m\u001b[0m\n\u001b[1;32m     56\u001b[0m     \u001b[0;32mfor\u001b[0m \u001b[0mkey\u001b[0m \u001b[0;32min\u001b[0m \u001b[0mkeys\u001b[0m\u001b[0;34m:\u001b[0m\u001b[0;34m\u001b[0m\u001b[0;34m\u001b[0m\u001b[0m\n\u001b[0;32m---> 57\u001b[0;31m         \u001b[0mroot\u001b[0m \u001b[0;34m=\u001b[0m \u001b[0minsert\u001b[0m\u001b[0;34m(\u001b[0m\u001b[0mroot\u001b[0m\u001b[0;34m,\u001b[0m \u001b[0mkey\u001b[0m\u001b[0;34m)\u001b[0m\u001b[0;34m\u001b[0m\u001b[0;34m\u001b[0m\u001b[0m\n\u001b[0m\u001b[1;32m     58\u001b[0m \u001b[0;34m\u001b[0m\u001b[0m\n\u001b[1;32m     59\u001b[0m     \u001b[0msearch\u001b[0m\u001b[0;34m(\u001b[0m\u001b[0mroot\u001b[0m\u001b[0;34m,\u001b[0m \u001b[0;36m8\u001b[0m\u001b[0;34m,\u001b[0m \u001b[0;32mNone\u001b[0m\u001b[0;34m)\u001b[0m\u001b[0;34m\u001b[0m\u001b[0;34m\u001b[0m\u001b[0m\n",
            "\u001b[0;32m<ipython-input-3-f905954cc26c>\u001b[0m in \u001b[0;36minsert\u001b[0;34m(root, key)\u001b[0m\n\u001b[1;32m      8\u001b[0m     \u001b[0;31m# if the root is None, create a new node and return it\u001b[0m\u001b[0;34m\u001b[0m\u001b[0;34m\u001b[0m\u001b[0;34m\u001b[0m\u001b[0m\n\u001b[1;32m      9\u001b[0m     \u001b[0;32mif\u001b[0m \u001b[0mroot\u001b[0m \u001b[0;32mis\u001b[0m \u001b[0;32mNone\u001b[0m\u001b[0;34m:\u001b[0m\u001b[0;34m\u001b[0m\u001b[0;34m\u001b[0m\u001b[0m\n\u001b[0;32m---> 10\u001b[0;31m         \u001b[0;32mreturn\u001b[0m \u001b[0mNode\u001b[0m\u001b[0;34m(\u001b[0m\u001b[0mkey\u001b[0m\u001b[0;34m)\u001b[0m\u001b[0;34m\u001b[0m\u001b[0;34m\u001b[0m\u001b[0m\n\u001b[0m\u001b[1;32m     11\u001b[0m \u001b[0;34m\u001b[0m\u001b[0m\n\u001b[1;32m     12\u001b[0m     \u001b[0;31m# if the given key is less than the root node, recur for the left subtree\u001b[0m\u001b[0;34m\u001b[0m\u001b[0;34m\u001b[0m\u001b[0;34m\u001b[0m\u001b[0m\n",
            "\u001b[0;31mNameError\u001b[0m: name 'Node' is not defined"
          ]
        }
      ]
    },
    {
      "cell_type": "code",
      "metadata": {
        "id": "AgvVVckbX3gw"
      },
      "source": [
        "#Leetcode Solution\n",
        "\n",
        "# Time:  O(logn)\n",
        "# Space: O(1)\n",
        "\n",
        "class Solution(object):\n",
        "    def search(self, nums, target):\n",
        "        \"\"\"\n",
        "        :type nums: List[int]\n",
        "        :type target: int\n",
        "        :rtype: int\n",
        "        \"\"\"\n",
        "        left, right = 0, len(nums)-1\n",
        "        while left <= right:\n",
        "            mid = left + (right-left)//2\n",
        "            if nums[mid] > target:\n",
        "                right = mid-1\n",
        "            elif nums[mid] < target:\n",
        "                left = mid+1\n",
        "            else:\n",
        "                return mid\n",
        "        return -1"
      ],
      "execution_count": null,
      "outputs": []
    },
    {
      "cell_type": "markdown",
      "metadata": {
        "id": "PafeVhR_UHdz"
      },
      "source": [
        "#### Interview Questions & Further Reading:"
      ]
    },
    {
      "cell_type": "markdown",
      "metadata": {
        "id": "N9x8d-KfUL3D"
      },
      "source": [
        "\n",
        "\n",
        "1.   [Interview questions related to BST](https://www.techiedelight.com/binary-search-tree-bst-interview-questions/)\n",
        "2.   [Most common Binary Tree Interview Questions & Answers](https://www.upgrad.com/blog/binary-tree-interview-questions-answers/)\n",
        "3.   [Binary Tree Interview Practice](https://medium.com/techie-delight/binary-tree-interview-questions-and-practice-problems-439df7e5ea1f)\n",
        "\n",
        "\n"
      ]
    }
  ]
}