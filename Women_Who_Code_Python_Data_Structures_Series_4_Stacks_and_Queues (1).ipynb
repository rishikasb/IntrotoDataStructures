{
  "nbformat": 4,
  "nbformat_minor": 0,
  "metadata": {
    "colab": {
      "name": "Women Who Code Python - Data Structures Series: 4 Stacks and Queues.ipynb",
      "provenance": [],
      "collapsed_sections": []
    },
    "kernelspec": {
      "name": "python3",
      "display_name": "Python 3"
    }
  },
  "cells": [
    {
      "cell_type": "markdown",
      "metadata": {
        "id": "unVdvwggA0Ur"
      },
      "source": [
        "# Intro to Data Structures: Ace the Technical Interview\n",
        "\n",
        "## Session 4: Stacks and Queues"
      ]
    },
    {
      "cell_type": "markdown",
      "metadata": {
        "id": "zB13Wc37BD5X"
      },
      "source": [
        "### Agenda for Today:\n",
        "\n",
        "*  How to Implement Stacks using Lists\n",
        "*  Valid Parenthesis [(leetcode)](https://leetcode.com/problems/valid-parentheses/)\n",
        "*  Decode String [(leetcode)](https://leetcode.com/problems/decode-string/)\n",
        "* How to Implement Queues using Lists\n",
        "* Circular Queue [(leetcode)](https://leetcode.com/problems/design-circular-queue/)"
      ]
    },
    {
      "cell_type": "markdown",
      "metadata": {
        "id": "1xDhEZuaBOG5"
      },
      "source": [
        "\n",
        "\n",
        "---\n",
        "\n",
        "\n",
        "\n",
        "---\n",
        "\n"
      ]
    },
    {
      "cell_type": "markdown",
      "metadata": {
        "id": "hr467zapBLkZ"
      },
      "source": [
        "#### How to Implement Stacks using Lists:"
      ]
    },
    {
      "cell_type": "code",
      "metadata": {
        "id": "CBZDZVqLAus6"
      },
      "source": [
        "# create a list called stack\n",
        "stack = []"
      ],
      "execution_count": null,
      "outputs": []
    },
    {
      "cell_type": "code",
      "metadata": {
        "id": "NviuA6rwBPUp"
      },
      "source": [
        "# Push 2 elements into list using append(element)\n",
        "stack.append(10)"
      ],
      "execution_count": null,
      "outputs": []
    },
    {
      "cell_type": "code",
      "metadata": {
        "id": "LQOpB5EtNYie"
      },
      "source": [
        "stack.append(7)"
      ],
      "execution_count": null,
      "outputs": []
    },
    {
      "cell_type": "code",
      "metadata": {
        "id": "2hQ4plnAN4j1",
        "colab": {
          "base_uri": "https://localhost:8080/"
        },
        "outputId": "9b561ef6-29fc-4e3a-935f-0910d3289986"
      },
      "source": [
        "# top element of the stack\n",
        "print('Top : ',stack[-1])"
      ],
      "execution_count": null,
      "outputs": [
        {
          "output_type": "stream",
          "text": [
            "Top :  7\n"
          ],
          "name": "stdout"
        }
      ]
    },
    {
      "cell_type": "code",
      "metadata": {
        "id": "6gZZxtjCEede",
        "colab": {
          "base_uri": "https://localhost:8080/"
        },
        "outputId": "af7e82a6-f769-4e7d-c0bd-75a4486516c3"
      },
      "source": [
        "# Print the Stack after popping 1 element using pop()\n",
        "print('Popped element:',stack.pop())\n",
        "print('Stack: ', stack)"
      ],
      "execution_count": null,
      "outputs": [
        {
          "output_type": "stream",
          "text": [
            "Popped element: 7\n",
            "Stack:  [10]\n"
          ],
          "name": "stdout"
        }
      ]
    },
    {
      "cell_type": "code",
      "metadata": {
        "colab": {
          "base_uri": "https://localhost:8080/"
        },
        "id": "jzQ1ZUhn0N-c",
        "outputId": "1c4a2730-45ef-4eeb-8add-36a04c656eab"
      },
      "source": [
        "# top element of the stack\n",
        "print('Top : ',stack[-1])"
      ],
      "execution_count": null,
      "outputs": [
        {
          "output_type": "stream",
          "text": [
            "Top :  10\n"
          ],
          "name": "stdout"
        }
      ]
    },
    {
      "cell_type": "code",
      "metadata": {
        "colab": {
          "base_uri": "https://localhost:8080/"
        },
        "id": "h5mNX_Mz0Skx",
        "outputId": "ea5d42dd-eec4-4a07-81da-f191bd92d613"
      },
      "source": [
        "# Print the Stack after popping 1 element using pop()\n",
        "print('Popped element:',stack.pop())\n",
        "print('Stack: ', stack)"
      ],
      "execution_count": null,
      "outputs": [
        {
          "output_type": "stream",
          "text": [
            "Popped element: 10\n",
            "Stack:  []\n"
          ],
          "name": "stdout"
        }
      ]
    },
    {
      "cell_type": "code",
      "metadata": {
        "colab": {
          "base_uri": "https://localhost:8080/",
          "height": 199
        },
        "id": "Z0eXlxAS0T9s",
        "outputId": "8edcd353-d747-45f0-d7b2-5193f6597f00"
      },
      "source": [
        "# top element of the stack\n",
        "print('Top : ',stack[-1])\n",
        "# Stack Empty/ Stack Underflow Condition"
      ],
      "execution_count": null,
      "outputs": [
        {
          "output_type": "error",
          "ename": "IndexError",
          "evalue": "ignored",
          "traceback": [
            "\u001b[0;31m---------------------------------------------------------------------------\u001b[0m",
            "\u001b[0;31mIndexError\u001b[0m                                Traceback (most recent call last)",
            "\u001b[0;32m<ipython-input-10-fa634d21f0af>\u001b[0m in \u001b[0;36m<module>\u001b[0;34m()\u001b[0m\n\u001b[1;32m      1\u001b[0m \u001b[0;31m# top element of the stack\u001b[0m\u001b[0;34m\u001b[0m\u001b[0;34m\u001b[0m\u001b[0;34m\u001b[0m\u001b[0m\n\u001b[0;32m----> 2\u001b[0;31m \u001b[0mprint\u001b[0m\u001b[0;34m(\u001b[0m\u001b[0;34m'Top : '\u001b[0m\u001b[0;34m,\u001b[0m\u001b[0mstack\u001b[0m\u001b[0;34m[\u001b[0m\u001b[0;34m-\u001b[0m\u001b[0;36m1\u001b[0m\u001b[0;34m]\u001b[0m\u001b[0;34m)\u001b[0m\u001b[0;34m\u001b[0m\u001b[0;34m\u001b[0m\u001b[0m\n\u001b[0m\u001b[1;32m      3\u001b[0m \u001b[0;31m# Stack Empty/ Stack Underflow Condition\u001b[0m\u001b[0;34m\u001b[0m\u001b[0;34m\u001b[0m\u001b[0;34m\u001b[0m\u001b[0m\n",
            "\u001b[0;31mIndexError\u001b[0m: list index out of range"
          ]
        }
      ]
    },
    {
      "cell_type": "markdown",
      "metadata": {
        "id": "odrDvKXsBPsB"
      },
      "source": [
        "\n",
        "\n",
        "---\n",
        "\n",
        "\n",
        "\n",
        "---\n",
        "\n"
      ]
    },
    {
      "cell_type": "markdown",
      "metadata": {
        "id": "0YZ5jJqLvs1L"
      },
      "source": [
        "#### Valid Parenthesis:\n",
        "Given a string s containing just the characters '(', ')', '{', '}', '[' and ']', determine if the input string is valid.\n",
        "\n",
        "An input string is valid if:\n",
        "1. Open brackets must be closed by the same type of brackets.\n",
        "2. Open brackets must be closed in the correct order.\n",
        "\n",
        "```\n",
        "Example 1:\n",
        "Input: s = \"()\"\n",
        "Output: true\n",
        "\n",
        "Example 2:\n",
        "Input: s = \"()[]{}\"\n",
        "Output: true\n",
        "\n",
        "Example 3:\n",
        "Input: s = \"(]\"\n",
        "Output: false\n",
        "\n",
        "Example 4:\n",
        "Input: s = \"([)]\"\n",
        "Output: false\n",
        "\n",
        "Example 5:\n",
        "Input: s = \"{[]}\"\n",
        "Output: true\n",
        "\n",
        "```\n",
        "\n",
        "Constraints:\n",
        "```\n",
        "1 <= s.length <= 104\n",
        "s consists of parentheses only '()[]{}'\n",
        "```\n"
      ]
    },
    {
      "cell_type": "code",
      "metadata": {
        "id": "MQNhrDm8ItSr"
      },
      "source": [
        "s ='()'"
      ],
      "execution_count": null,
      "outputs": []
    },
    {
      "cell_type": "code",
      "metadata": {
        "id": "8GULcRAKIx-N"
      },
      "source": [
        "#i=0, s[i] ='('\n",
        "i= 0\n",
        "stack = []\n",
        "stack.append(s[i])"
      ],
      "execution_count": null,
      "outputs": []
    },
    {
      "cell_type": "code",
      "metadata": {
        "id": "absOpZ9pJAwd",
        "colab": {
          "base_uri": "https://localhost:8080/"
        },
        "outputId": "3dda43f1-54ac-4cbc-c3a7-faac92c45a38"
      },
      "source": [
        "stack\n"
      ],
      "execution_count": null,
      "outputs": [
        {
          "output_type": "execute_result",
          "data": {
            "text/plain": [
              "['(']"
            ]
          },
          "metadata": {
            "tags": []
          },
          "execution_count": 15
        }
      ]
    },
    {
      "cell_type": "code",
      "metadata": {
        "id": "ogbSkvh2BXl8"
      },
      "source": [
        "#Write a function, is_valid that takes a string s as a parameter and return true if s has balanced brackets else false.\n",
        "def is_valid(str):\n",
        "  #psuedo code\n",
        "  # 1) Declare an empty list stack\n",
        "  # 2) for char in input Expression s\n",
        "  # 3) If character is an openining bracket, push it to stack\n",
        "  # 4) else if character is not an openining bracket,then it is a closing bracket\n",
        "  # 4.1) Check if the Stack is empty, if its empty return False\n",
        "  # 4.2) Pop the top element of the stack and store it as currengt character\n",
        "  # 4.3) if current character is an opening bracket of a type x\n",
        "  # 4.4) check if char not is a closing bracket of a type x return False [Do this check for all bracket types]\n",
        "  # 4.5) End else block\n",
        "  # 5) End For block\n",
        "  # 6) Check if Stack is empty return True, else return False \n",
        "  integer_stack = []\n",
        "  string_stack = []\n",
        "  temp = \"\"\n",
        "  result = \"\" \n",
        "  i = 0\n",
        "  # Traversing the string \n",
        "  while i < len(str):\n",
        "      count = 0\n",
        "\n",
        "      # If number, convert it into number \n",
        "      # and push it into integer_stack. \n",
        "      if (str[i] >= '0' and str[i] <='9'):\n",
        "          while (str[i] >= '0' and str[i] <= '9'):\n",
        "              count = count * 10 + ord(str[i]) - ord('0') \n",
        "              i += 1\n",
        "          i -= 1\n",
        "          integer_stack.append(count)\n",
        "\n",
        "      # If closing bracket ']', pop elemment until \n",
        "      # '[' opening bracket is not found in the \n",
        "      # character stack. \n",
        "      elif (str[i] == ']'):\n",
        "          temp = \"\" \n",
        "          count = 0\n",
        "\n",
        "          if (len(integer_stack) != 0):\n",
        "              count = integer_stack[-1] \n",
        "              integer_stack.pop()\n",
        "\n",
        "          while (len(string_stack) != 0 and string_stack[-1] !='[' ):\n",
        "              temp = string_stack[-1] + temp \n",
        "              string_stack.pop()\n",
        "\n",
        "          if (len(string_stack) != 0 and string_stack[-1] == '['): \n",
        "              string_stack.pop() \n",
        "\n",
        "          # Repeating the popped string 'temo' count \n",
        "          # number of times.\n",
        "          for j in range(count):\n",
        "              result = result + temp \n",
        "\n",
        "          # Push it in the character stack.\n",
        "          for j in range(len(result)):\n",
        "              string_stack.append(result[j]) \n",
        "\n",
        "          result = \"\"\n",
        "\n",
        "      # If '[' opening bracket, push it into character stack. \n",
        "      elif (str[i] == '['):\n",
        "          if (str[i-1] >= '0' and str[i-1] <= '9'): \n",
        "              string_stack.append(str[i]) \n",
        "\n",
        "          else:\n",
        "              string_stack.append(str[i]) \n",
        "              integer_stack.append(1)\n",
        "\n",
        "      else:\n",
        "          string_stack.append(str[i])\n",
        "        \n",
        "      i += 1\n",
        "\n",
        "  # Pop all the elmenet, make a string and return.\n",
        "  while len(string_stack) != 0:\n",
        "      result = string_stack[-1] + result \n",
        "      string_stack.pop()\n",
        "\n",
        "  return result"
      ],
      "execution_count": null,
      "outputs": []
    },
    {
      "cell_type": "code",
      "metadata": {
        "id": "j1Dlr1fLBXl8",
        "colab": {
          "base_uri": "https://localhost:8080/"
        },
        "outputId": "8e8f958e-d85c-4eba-acce-0f59926cba2a"
      },
      "source": [
        "s =  \"([)]\"\n",
        "# s = \"[[\"\n",
        "# Function call\n",
        "if is_valid(s):\n",
        "    print(\"Valid String\")\n",
        "else:\n",
        "    print(\"Invalid String\")"
      ],
      "execution_count": null,
      "outputs": [
        {
          "output_type": "stream",
          "text": [
            "Valid String\n"
          ],
          "name": "stdout"
        }
      ]
    },
    {
      "cell_type": "markdown",
      "metadata": {
        "id": "YO4CkQRrBVfJ"
      },
      "source": [
        "\n",
        "\n",
        "---\n",
        "\n",
        "\n",
        "\n",
        "---\n",
        "\n"
      ]
    },
    {
      "cell_type": "markdown",
      "metadata": {
        "id": "uU0_JjghTz5O"
      },
      "source": [
        "#### Decode String:\n",
        "\n",
        "Given an encoded string, return its decoded string.\n",
        "\n",
        "The encoding rule is: k[encoded_string], where the encoded_string inside the square brackets is being repeated exactly k times. Note that k is guaranteed to be a positive integer.\n",
        "\n",
        "You may assume that the input string is always valid; No extra white spaces, square brackets are well-formed, etc.\n",
        "\n",
        "Furthermore, you may assume that the original data does not contain any digits and that digits are only for those repeat numbers, k. For example, there won't be input like 3a or 2[4].\n",
        "\n",
        " ```\n",
        "Example 1:\n",
        "  Input: s = \"3[a]2[bc]\"\n",
        "  Output: \"aaabcbc\"\n",
        "\n",
        "Example 2:\n",
        "  Input: s = \"3[a2[c]]\"\n",
        "  Output: \"accaccacc\"\n",
        "Example 3:\n",
        "  Input: s = \"2[abc]3[cd]ef\"\n",
        "  Output: \"abcabccdcdcdef\"\n",
        "Example 4:\n",
        "  Input: s = \"abc3[cd]xyz\"\n",
        "  Output: \"abccdcdcdxyz\"\n",
        " ```\n",
        "\n",
        "Constraints:\n",
        "```\n",
        "1 <= s.length <= 30\n",
        "s consists of lowercase English letters, digits, and square brackets '[]'.\n",
        "s is guaranteed to be a valid input.\n",
        "All the integers in s are in the range [1, 300].\n",
        "```\n"
      ]
    },
    {
      "cell_type": "markdown",
      "metadata": {
        "id": "lFzdU7Lp1HoA"
      },
      "source": [
        "**Code Simulation**\n",
        "![decode_string.png](data:image/png;base64,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)"
      ]
    },
    {
      "cell_type": "code",
      "metadata": {
        "id": "1yCQXUOXDFYG"
      },
      "source": [
        "#Write a function, decode that takes a string str as a parameter and return the decoded string based on the rule\n",
        "def decode(str):\n",
        "  #psuedo code\n",
        "  # 1) Declare 2 empty lists  integer_stack,string_stack\n",
        "  # 2) Declare 2 empty strings, temp and result\n",
        "  # 3) Initilase i=0\n",
        "  # 4) while i < length of input expression str\n",
        "  # 5) Initilase count=0\n",
        "  # 6) If character is a digit, convert it into a number and push it to integer_stack\n",
        "  # 7) else if character is closing ']', pop elements until  an opening bracket ']' is found in the string_stack\n",
        "  # 7.1) Pop top element from integer_stack, say count\n",
        "  # 7.2) Create a variable that stores the value of string between brackets repeated 'count'\n",
        "  # 7.3) Push it in string_stack\n",
        "  # 7.4) End of else if block\n",
        "  # 8) else if character is opening bracket '[', push it to character stack\n",
        "  # 9) end of else if block\n",
        "  # 10) end while block\n",
        "  # 11) Pop all elemtns in string_stack and concatenate to make the result string\n",
        "  integer_stack = []\n",
        "  string_stack = []\n",
        "  temp = \"\"\n",
        "  result = \"\" \n",
        "  i = 0\n",
        "  # Traversing the string \n",
        "  while i < len(str):\n",
        "      count = 0\n",
        "\n",
        "      # If number, convert it into number \n",
        "      # and push it into integer_stack. \n",
        "      if (str[i] >= '0' and str[i] <='9'):\n",
        "          while (str[i] >= '0' and str[i] <= '9'):\n",
        "              count = count * 10 + ord(str[i]) - ord('0') \n",
        "              i += 1\n",
        "          i -= 1\n",
        "          integer_stack.append(count)\n",
        "\n",
        "      # If closing bracket ']', pop elemment until \n",
        "      # '[' opening bracket is not found in the \n",
        "      # character stack. \n",
        "      elif (str[i] == ']'):\n",
        "          temp = \"\" \n",
        "          count = 0\n",
        "\n",
        "          if (len(integer_stack) != 0):\n",
        "              count = integer_stack[-1] \n",
        "              integer_stack.pop()\n",
        "\n",
        "          while (len(string_stack) != 0 and string_stack[-1] !='[' ):\n",
        "              temp = string_stack[-1] + temp \n",
        "              string_stack.pop()\n",
        "\n",
        "          if (len(string_stack) != 0 and string_stack[-1] == '['): \n",
        "              string_stack.pop() \n",
        "\n",
        "          # Repeating the popped string 'temo' count \n",
        "          # number of times.\n",
        "          for j in range(count):\n",
        "              result = result + temp \n",
        "\n",
        "          # Push it in the character stack.\n",
        "          for j in range(len(result)):\n",
        "              string_stack.append(result[j]) \n",
        "\n",
        "          result = \"\"\n",
        "\n",
        "      # If '[' opening bracket, push it into character stack. \n",
        "      elif (str[i] == '['):\n",
        "          if (str[i-1] >= '0' and str[i-1] <= '9'): \n",
        "              string_stack.append(str[i]) \n",
        "\n",
        "          else:\n",
        "              string_stack.append(str[i]) \n",
        "              integer_stack.append(1)\n",
        "\n",
        "      else:\n",
        "          string_stack.append(str[i])\n",
        "        \n",
        "      i += 1\n",
        "\n",
        "  # Pop all the elmenet, make a string and return.\n",
        "  while len(string_stack) != 0:\n",
        "      result = string_stack[-1] + result \n",
        "      string_stack.pop()\n",
        "\n",
        "  return result"
      ],
      "execution_count": null,
      "outputs": []
    },
    {
      "cell_type": "code",
      "metadata": {
        "colab": {
          "base_uri": "https://localhost:8080/"
        },
        "id": "U4VV7_iCYATq",
        "outputId": "11ce5b05-0120-42d1-f892-3a717e407e47"
      },
      "source": [
        "#Sample Case 1\n",
        "str = \"3[b2[ca]]\"\n",
        "expected_output_string = \"bcacabcacabcaca\"\n",
        "#Sample Case 2\n",
        "# str = \"abc3[cd]xyz\"\n",
        "# expected_output = \"abccdcdcdxyz\"\n",
        "decoded_output_string = decode(str)\n",
        "\n",
        "print(\"decoded_output_string = \",decoded_output_string )\n",
        "print(\"expected_output_string = \",expected_output_string)\n",
        "print(\"Are expected_output and decoded_output same? \\n\",expected_output_string==decoded_output_string)"
      ],
      "execution_count": null,
      "outputs": [
        {
          "output_type": "stream",
          "text": [
            "decoded_output_string =  bcacabcacabcaca\n",
            "expected_output_string =  bcacabcacabcaca\n",
            "Are expected_output and decoded_output same? \n",
            " True\n"
          ],
          "name": "stdout"
        }
      ]
    },
    {
      "cell_type": "markdown",
      "metadata": {
        "id": "xe9kUWxsBXl8"
      },
      "source": [
        "\n",
        "\n",
        "---\n",
        "\n",
        "\n",
        "\n",
        "---\n",
        "\n"
      ]
    },
    {
      "cell_type": "markdown",
      "metadata": {
        "id": "aFOxKD9uZA1A"
      },
      "source": [
        "#### How to Implement Queues using Lists:"
      ]
    },
    {
      "cell_type": "code",
      "metadata": {
        "id": "BdmOGEljZA1A"
      },
      "source": [
        "# We will be implementing a FIFO queue\n",
        "# create a list called queue\n",
        "queue = []\n"
      ],
      "execution_count": null,
      "outputs": []
    },
    {
      "cell_type": "code",
      "metadata": {
        "id": "-nqL04L-ZA1B"
      },
      "source": [
        "# Enqueue 1 element into list using append(element)\n",
        "queue.append(10)"
      ],
      "execution_count": null,
      "outputs": []
    },
    {
      "cell_type": "code",
      "metadata": {
        "id": "Pu-af2pFpqsR",
        "colab": {
          "base_uri": "https://localhost:8080/"
        },
        "outputId": "aeb61791-6f99-43dc-edb1-09a5fb9f6dbb"
      },
      "source": [
        "# print front of the queue\n",
        "print('Front : ',queue[0])"
      ],
      "execution_count": null,
      "outputs": [
        {
          "output_type": "stream",
          "text": [
            "Front :  10\n"
          ],
          "name": "stdout"
        }
      ]
    },
    {
      "cell_type": "code",
      "metadata": {
        "id": "BDzgscUyqVEa",
        "colab": {
          "base_uri": "https://localhost:8080/"
        },
        "outputId": "4426c4ae-2fb4-4ed8-949f-f9d0100597a5"
      },
      "source": [
        "# print rear of the queue\n",
        "print('Rear : ',queue[-1])"
      ],
      "execution_count": null,
      "outputs": [
        {
          "output_type": "stream",
          "text": [
            "Rear :  10\n"
          ],
          "name": "stdout"
        }
      ]
    },
    {
      "cell_type": "code",
      "metadata": {
        "id": "XIte7iKF3hdE"
      },
      "source": [
        "# Enqueue 1 more element into list using append(element)\n",
        "queue.append(7)"
      ],
      "execution_count": null,
      "outputs": []
    },
    {
      "cell_type": "code",
      "metadata": {
        "colab": {
          "base_uri": "https://localhost:8080/"
        },
        "id": "3UKvVqQ-3mAb",
        "outputId": "b6c583ea-a4dd-4612-ee29-d7e1ad63df2c"
      },
      "source": [
        "# print front of the queue\n",
        "print('Front : ',queue[0])\n",
        "# print rear of the queue\n",
        "print('Rear : ',queue[-1])"
      ],
      "execution_count": null,
      "outputs": [
        {
          "output_type": "stream",
          "text": [
            "Front :  10\n",
            "Rear :  7\n"
          ],
          "name": "stdout"
        }
      ]
    },
    {
      "cell_type": "code",
      "metadata": {
        "id": "10HrN-YtZA1B",
        "colab": {
          "base_uri": "https://localhost:8080/"
        },
        "outputId": "0a171d03-7a1f-490d-cc29-5a94be63e914"
      },
      "source": [
        "# Print the Queue after dequeuing 1 element using pop(0)\n",
        "print('Original Queue: ')\n",
        "print('Dequeued element:',queue.pop(0))\n",
        "print('Queue After Popping one element: ', queue)\n",
        "# print front of the queue\n",
        "print('\\tFront : ',queue[0])\n",
        "# print rear of the queue\n",
        "print('\\tRear : ',queue[-1])"
      ],
      "execution_count": null,
      "outputs": [
        {
          "output_type": "stream",
          "text": [
            "Original Queue: \n",
            "Dequeued element: 10\n",
            "Queue After Popping one element:  [7]\n",
            "\tFront :  7\n",
            "\tRear :  7\n"
          ],
          "name": "stdout"
        }
      ]
    },
    {
      "cell_type": "code",
      "metadata": {
        "colab": {
          "base_uri": "https://localhost:8080/",
          "height": 286
        },
        "id": "hu2068Qd3xUz",
        "outputId": "df05cdde-09b8-44ab-9dbe-6ebb3dd85726"
      },
      "source": [
        "# Print the Queue after dequeuing 1 element using pop(0)\n",
        "print('Original Queue: ')\n",
        "print('Dequeued element:',queue.pop(0))\n",
        "print('Queue After Popping one element: ', queue)\n",
        "#Queue Empty or Underflow Condition\n",
        "# print front of the queue\n",
        "print('\\tFront : ',queue[0])\n",
        "# print rear of the queue\n",
        "print('\\tRear : ',queue[-1])"
      ],
      "execution_count": null,
      "outputs": [
        {
          "output_type": "stream",
          "text": [
            "Original Queue: \n",
            "Dequeued element: 7\n",
            "Queue After Popping one element:  []\n"
          ],
          "name": "stdout"
        },
        {
          "output_type": "error",
          "ename": "IndexError",
          "evalue": "ignored",
          "traceback": [
            "\u001b[0;31m---------------------------------------------------------------------------\u001b[0m",
            "\u001b[0;31mIndexError\u001b[0m                                Traceback (most recent call last)",
            "\u001b[0;32m<ipython-input-64-43525ca6620f>\u001b[0m in \u001b[0;36m<module>\u001b[0;34m()\u001b[0m\n\u001b[1;32m      4\u001b[0m \u001b[0mprint\u001b[0m\u001b[0;34m(\u001b[0m\u001b[0;34m'Queue After Popping one element: '\u001b[0m\u001b[0;34m,\u001b[0m \u001b[0mqueue\u001b[0m\u001b[0;34m)\u001b[0m\u001b[0;34m\u001b[0m\u001b[0;34m\u001b[0m\u001b[0m\n\u001b[1;32m      5\u001b[0m \u001b[0;31m# print front of the queue\u001b[0m\u001b[0;34m\u001b[0m\u001b[0;34m\u001b[0m\u001b[0;34m\u001b[0m\u001b[0m\n\u001b[0;32m----> 6\u001b[0;31m \u001b[0mprint\u001b[0m\u001b[0;34m(\u001b[0m\u001b[0;34m'\\tFront : '\u001b[0m\u001b[0;34m,\u001b[0m\u001b[0mqueue\u001b[0m\u001b[0;34m[\u001b[0m\u001b[0;36m0\u001b[0m\u001b[0;34m]\u001b[0m\u001b[0;34m)\u001b[0m\u001b[0;34m\u001b[0m\u001b[0;34m\u001b[0m\u001b[0m\n\u001b[0m\u001b[1;32m      7\u001b[0m \u001b[0;31m# print rear of the queue\u001b[0m\u001b[0;34m\u001b[0m\u001b[0;34m\u001b[0m\u001b[0;34m\u001b[0m\u001b[0m\n\u001b[1;32m      8\u001b[0m \u001b[0mprint\u001b[0m\u001b[0;34m(\u001b[0m\u001b[0;34m'\\tRear : '\u001b[0m\u001b[0;34m,\u001b[0m\u001b[0mqueue\u001b[0m\u001b[0;34m[\u001b[0m\u001b[0;34m-\u001b[0m\u001b[0;36m1\u001b[0m\u001b[0;34m]\u001b[0m\u001b[0;34m)\u001b[0m\u001b[0;34m\u001b[0m\u001b[0;34m\u001b[0m\u001b[0m\n",
            "\u001b[0;31mIndexError\u001b[0m: list index out of range"
          ]
        }
      ]
    },
    {
      "cell_type": "markdown",
      "metadata": {
        "id": "trjC5-fdbLbx"
      },
      "source": [
        "#### Circular Queue\n",
        "Design your implementation of the circular queue. The circular queue is a linear data structure in which the operations are performed based on FIFO (First In First Out) principle and the last position is connected back to the first position to make a circle. It is also called \"Ring Buffer\".\n",
        "\n",
        "One of the benefits of the circular queue is that we can make use of the spaces in front of the queue. In a normal queue, once the queue becomes full, we cannot insert the next element even if there is a space in front of the queue. But using the circular queue, we can use the space to store new values.\n",
        "\n",
        "Implementation the MyCircularQueue class:\n",
        "```\n",
        "MyCircularQueue(k) Initializes the object with the size of the queue to be k.\n",
        "\n",
        "int Front() Gets the front item from the queue. If the queue is empty, return -1.\n",
        "\n",
        "int Rear() Gets the last item from the queue. If the queue is empty, return -1.\n",
        "\n",
        "boolean enQueue(int value) Inserts an element into the circular queue. Return true if the operation is successful.\n",
        "\n",
        "boolean deQueue() Deletes an element from the circular queue. Return true if the operation is successful.\n",
        "\n",
        "boolean isEmpty() Checks whether the circular queue is empty or not.\n",
        "\n",
        "boolean isFull() Checks whether the circular queue is full or not.\n",
        "```\n",
        " \n",
        "\n",
        "Example 1:\n",
        "```\n",
        "Input\n",
        "[\"MyCircularQueue\", \"enQueue\", \"enQueue\", \"enQueue\", \"enQueue\", \"Rear\", \"isFull\", \"deQueue\", \"enQueue\", \"Rear\"]\n",
        "[[3], [1], [2], [3], [4], [], [], [], [4], []]\n",
        "Output\n",
        "[null, true, true, true, false, 3, true, true, true, 4]\n",
        "````\n",
        "\n",
        "Explanation\n",
        "```\n",
        "MyCircularQueue myCircularQueue = new MyCircularQueue(3);\n",
        "myCircularQueue.enQueue(1); // return True\n",
        "myCircularQueue.enQueue(2); // return True\n",
        "myCircularQueue.enQueue(3); // return True\n",
        "myCircularQueue.enQueue(4); // return False\n",
        "myCircularQueue.Rear();     // return 3\n",
        "myCircularQueue.isFull();   // return True\n",
        "myCircularQueue.deQueue();  // return True\n",
        "myCircularQueue.enQueue(4); // return True\n",
        "myCircularQueue.Rear();     // return 4\n",
        "```\n",
        " \n",
        "\n",
        "Constraints:\n",
        "```\n",
        "1 <= k <= 1000\n",
        "0 <= value <= 1000\n",
        "At most 3000 calls will be made to enQueue, deQueue, Front, Rear, isEmpty, and isFull.\n",
        "```"
      ]
    },
    {
      "cell_type": "code",
      "metadata": {
        "id": "ZcDZj770hOr8"
      },
      "source": [
        "class MyCircularQueue:\n",
        "\n",
        "\tdef __init__(self, k):\n",
        "\t\t\"\"\"\n",
        "\t\tInitialize your data structure here. Set the size of the queue to be k.\n",
        "\t\t\"\"\"\n",
        "\t\tself.queue = []\n",
        "\t\tself.capacity = k\n",
        "\n",
        "\tdef enQueue(self, value) :\n",
        "\t\t\"\"\"\n",
        "\t\tInsert an element into the circular queue. Return true if the operation is successful.\n",
        "\t\t\"\"\"\n",
        "\t\tif self.isFull():\n",
        "\t\t\treturn False\n",
        "\t\tself.queue.append(value)\n",
        "\t\treturn True\n",
        "\t\t\t\n",
        "\tdef deQueue(self) :\n",
        "\t\t\"\"\"\n",
        "\t\tDelete an element from the circular queue. Return true if the operation is successful.\n",
        "\t\t\"\"\"\n",
        "\t\tif self.isEmpty():\n",
        "\t\t\treturn False\n",
        "\t\tself.queue.pop(0)\n",
        "\t\treturn True\n",
        "\t\t\t\n",
        "\tdef Front(self) :\n",
        "\t\t\"\"\"\n",
        "\t\tGet the front item from the queue.\n",
        "\t\t\"\"\"\n",
        "\n",
        "\t\treturn -1 if self.isEmpty() else self.queue[0]\n",
        "\t\t\t\n",
        "\tdef Rear(self) :\n",
        "\t\t\"\"\"\n",
        "\t\tGet the last item from the queue.\n",
        "\t\t\"\"\"\n",
        "\n",
        "\t\treturn -1 if self.isEmpty() else self.queue[-1]\n",
        "\n",
        "\tdef isEmpty(self) :\n",
        "\t\t\"\"\"\n",
        "\t\tChecks whether the circular queue is empty or not.\n",
        "\t\t\"\"\"\n",
        "\t\treturn len(self.queue) <= 0\n",
        "\n",
        "\tdef isFull(self):\n",
        "\t\t\"\"\"\n",
        "\t\tChecks whether the circular queue is full or not.\n",
        "\t\t\"\"\"\n",
        "\t\treturn len(self.queue) == self.capacity"
      ],
      "execution_count": null,
      "outputs": []
    },
    {
      "cell_type": "code",
      "metadata": {
        "id": "jcj25JpMxvAy"
      },
      "source": [
        "#Create a MyCircularQueue object my_circular_queue with size 2\n",
        "my_circular_queue = MyCircularQueue(2)"
      ],
      "execution_count": null,
      "outputs": []
    },
    {
      "cell_type": "code",
      "metadata": {
        "id": "vMRvuSzxx_cl",
        "colab": {
          "base_uri": "https://localhost:8080/"
        },
        "outputId": "2f4c07bb-7444-4ee2-9b08-e879f24005b2"
      },
      "source": [
        "# Check if queue is empty\n",
        "my_circular_queue.isEmpty()"
      ],
      "execution_count": null,
      "outputs": [
        {
          "output_type": "execute_result",
          "data": {
            "text/plain": [
              "True"
            ]
          },
          "metadata": {
            "tags": []
          },
          "execution_count": 108
        }
      ]
    },
    {
      "cell_type": "code",
      "metadata": {
        "colab": {
          "base_uri": "https://localhost:8080/"
        },
        "id": "KBR86Uxt4oMg",
        "outputId": "e9d3ca93-6b0b-4872-a15e-911e5a4d704c"
      },
      "source": [
        "# Check if queue is Full\n",
        "my_circular_queue.isFull()"
      ],
      "execution_count": null,
      "outputs": [
        {
          "output_type": "execute_result",
          "data": {
            "text/plain": [
              "False"
            ]
          },
          "metadata": {
            "tags": []
          },
          "execution_count": 109
        }
      ]
    },
    {
      "cell_type": "code",
      "metadata": {
        "id": "N7YN-943yFul",
        "colab": {
          "base_uri": "https://localhost:8080/"
        },
        "outputId": "de96def8-eac0-4083-fc0c-0a0e33e91179"
      },
      "source": [
        "# Add 1 more element to the queue\n",
        "my_circular_queue.enQueue(1)"
      ],
      "execution_count": null,
      "outputs": [
        {
          "output_type": "execute_result",
          "data": {
            "text/plain": [
              "True"
            ]
          },
          "metadata": {
            "tags": []
          },
          "execution_count": 110
        }
      ]
    },
    {
      "cell_type": "code",
      "metadata": {
        "id": "5enCElPAysMP",
        "colab": {
          "base_uri": "https://localhost:8080/"
        },
        "outputId": "2f14352f-48fb-4ea6-f5c0-36b6399d176b"
      },
      "source": [
        "# Check the queue\n",
        "my_circular_queue.queue"
      ],
      "execution_count": null,
      "outputs": [
        {
          "output_type": "execute_result",
          "data": {
            "text/plain": [
              "[1]"
            ]
          },
          "metadata": {
            "tags": []
          },
          "execution_count": 111
        }
      ]
    },
    {
      "cell_type": "code",
      "metadata": {
        "id": "J6_48gXGyM8J",
        "colab": {
          "base_uri": "https://localhost:8080/"
        },
        "outputId": "8360f765-8fd2-4c7f-a7cf-72cf1f35223a"
      },
      "source": [
        "# get front of the queue\n",
        "my_circular_queue.Front()"
      ],
      "execution_count": null,
      "outputs": [
        {
          "output_type": "execute_result",
          "data": {
            "text/plain": [
              "1"
            ]
          },
          "metadata": {
            "tags": []
          },
          "execution_count": 112
        }
      ]
    },
    {
      "cell_type": "code",
      "metadata": {
        "id": "8j5h8D3WyUU-",
        "colab": {
          "base_uri": "https://localhost:8080/"
        },
        "outputId": "5169350f-61df-44ea-afc9-12bc51e2a923"
      },
      "source": [
        "# get rear of the queue\n",
        "my_circular_queue.Rear()"
      ],
      "execution_count": null,
      "outputs": [
        {
          "output_type": "execute_result",
          "data": {
            "text/plain": [
              "1"
            ]
          },
          "metadata": {
            "tags": []
          },
          "execution_count": 113
        }
      ]
    },
    {
      "cell_type": "code",
      "metadata": {
        "id": "uXcAq-QKyYGi",
        "colab": {
          "base_uri": "https://localhost:8080/"
        },
        "outputId": "c666b491-7374-402f-8bb3-fac4a26e424f"
      },
      "source": [
        "# Check if queue is full\n",
        "my_circular_queue.isFull()"
      ],
      "execution_count": null,
      "outputs": [
        {
          "output_type": "execute_result",
          "data": {
            "text/plain": [
              "False"
            ]
          },
          "metadata": {
            "tags": []
          },
          "execution_count": 114
        }
      ]
    },
    {
      "cell_type": "code",
      "metadata": {
        "colab": {
          "base_uri": "https://localhost:8080/"
        },
        "id": "xIT_Qe8P5YPh",
        "outputId": "de961250-4164-4873-8868-866fcb8c21e7"
      },
      "source": [
        "# Add 1 elements to the queue\n",
        "my_circular_queue.enQueue(19)"
      ],
      "execution_count": null,
      "outputs": [
        {
          "output_type": "execute_result",
          "data": {
            "text/plain": [
              "True"
            ]
          },
          "metadata": {
            "tags": []
          },
          "execution_count": 115
        }
      ]
    },
    {
      "cell_type": "code",
      "metadata": {
        "colab": {
          "base_uri": "https://localhost:8080/"
        },
        "id": "-tArjxUj5YPj",
        "outputId": "bbf1413b-86f7-4f56-ec52-673ce8b32974"
      },
      "source": [
        "# Check the queue\n",
        "my_circular_queue.queue"
      ],
      "execution_count": null,
      "outputs": [
        {
          "output_type": "execute_result",
          "data": {
            "text/plain": [
              "[1, 19]"
            ]
          },
          "metadata": {
            "tags": []
          },
          "execution_count": 116
        }
      ]
    },
    {
      "cell_type": "code",
      "metadata": {
        "colab": {
          "base_uri": "https://localhost:8080/"
        },
        "id": "_gF4Fx9C5YPm",
        "outputId": "fb306543-7279-4dc8-8d46-de6d65623a44"
      },
      "source": [
        "# get front of the queue\n",
        "my_circular_queue.Front()"
      ],
      "execution_count": null,
      "outputs": [
        {
          "output_type": "execute_result",
          "data": {
            "text/plain": [
              "1"
            ]
          },
          "metadata": {
            "tags": []
          },
          "execution_count": 117
        }
      ]
    },
    {
      "cell_type": "code",
      "metadata": {
        "colab": {
          "base_uri": "https://localhost:8080/"
        },
        "id": "ABeyoiXE5YPo",
        "outputId": "e5addc80-4c41-4f37-d5d7-555e0bf81ca8"
      },
      "source": [
        "# get rear of the queue\n",
        "my_circular_queue.Rear()"
      ],
      "execution_count": null,
      "outputs": [
        {
          "output_type": "execute_result",
          "data": {
            "text/plain": [
              "19"
            ]
          },
          "metadata": {
            "tags": []
          },
          "execution_count": 118
        }
      ]
    },
    {
      "cell_type": "code",
      "metadata": {
        "colab": {
          "base_uri": "https://localhost:8080/"
        },
        "id": "co02wy6b5YPp",
        "outputId": "72227743-51e3-4d3e-d9bb-e823f8988a84"
      },
      "source": [
        "# Check if queue is full\n",
        "my_circular_queue.isFull()"
      ],
      "execution_count": null,
      "outputs": [
        {
          "output_type": "execute_result",
          "data": {
            "text/plain": [
              "True"
            ]
          },
          "metadata": {
            "tags": []
          },
          "execution_count": 119
        }
      ]
    },
    {
      "cell_type": "code",
      "metadata": {
        "colab": {
          "base_uri": "https://localhost:8080/"
        },
        "id": "BkC-ms7f508V",
        "outputId": "11504053-638b-4939-8fe7-4311de465ba6"
      },
      "source": [
        "# Add 1 element to the queue\n",
        "my_circular_queue.enQueue(18)\n",
        "# Queue Full, hence no more elements can be added"
      ],
      "execution_count": null,
      "outputs": [
        {
          "output_type": "execute_result",
          "data": {
            "text/plain": [
              "False"
            ]
          },
          "metadata": {
            "tags": []
          },
          "execution_count": 120
        }
      ]
    },
    {
      "cell_type": "code",
      "metadata": {
        "id": "27v4cyEPyll0",
        "colab": {
          "base_uri": "https://localhost:8080/"
        },
        "outputId": "b0c1900e-8f64-434d-e4f1-8009dd2afac1"
      },
      "source": [
        "# remove elements from the queue\n",
        "print('Original Queue: ',my_circular_queue.queue)\n",
        "print(\"Was Dequeue as Success: \",my_circular_queue.deQueue())\n",
        "print('Queue After Dequeuing: ',my_circular_queue.queue)"
      ],
      "execution_count": null,
      "outputs": [
        {
          "output_type": "stream",
          "text": [
            "Original Queue:  [1, 19]\n",
            "Was Dequeue as Success:  True\n",
            "Queue After Dequeuing:  [19]\n"
          ],
          "name": "stdout"
        }
      ]
    },
    {
      "cell_type": "code",
      "metadata": {
        "colab": {
          "base_uri": "https://localhost:8080/"
        },
        "id": "cAD3oK9F6dkH",
        "outputId": "76eade38-330d-490c-b2e0-eb4e562ea43a"
      },
      "source": [
        "# remove elements from the queue\n",
        "print('Original Queue: ',my_circular_queue.queue)\n",
        "print(\"Was Dequeue as Success: \",my_circular_queue.deQueue())\n",
        "print('Queue After Dequeuing: ',my_circular_queue.queue)"
      ],
      "execution_count": null,
      "outputs": [
        {
          "output_type": "stream",
          "text": [
            "Original Queue:  [19]\n",
            "Was Dequeue as Success:  True\n",
            "Queue After Dequeuing:  []\n"
          ],
          "name": "stdout"
        }
      ]
    },
    {
      "cell_type": "code",
      "metadata": {
        "colab": {
          "base_uri": "https://localhost:8080/"
        },
        "id": "JMj8KOxM60T3",
        "outputId": "212952f3-d112-4a04-b672-71994bc60485"
      },
      "source": [
        "# remove elements from the queue\n",
        "print('Original Queue: ',my_circular_queue.queue)\n",
        "#Queue Empty Condition,hence Dequeue operation failed\n",
        "print(\"Was Dequeue as Success: \",my_circular_queue.deQueue())\n",
        "print('Queue After Dequeuing: ',my_circular_queue.queue)"
      ],
      "execution_count": null,
      "outputs": [
        {
          "output_type": "stream",
          "text": [
            "Original Queue:  []\n",
            "Was Dequeue as Success:  False\n",
            "Queue After Dequeuing:  []\n"
          ],
          "name": "stdout"
        }
      ]
    },
    {
      "cell_type": "markdown",
      "metadata": {
        "id": "vR6-8N4CZA1C"
      },
      "source": [
        "\n",
        "\n",
        "---\n",
        "\n",
        "\n",
        "\n",
        "---\n",
        "\n"
      ]
    },
    {
      "cell_type": "markdown",
      "metadata": {
        "id": "1Pp_DsgtBZFR"
      },
      "source": [
        "#### References & Further Reading:"
      ]
    },
    {
      "cell_type": "markdown",
      "metadata": {
        "id": "ol0UBt7PBdEn"
      },
      "source": [
        "1.   https://realpython.com/linked-lists-python/\n",
        "2.   https://www.geeksforgeeks.org/stack-and-queues-in-python/   \n",
        "3.   [More problems on Queues - Leetcode](https://leetcode.com/problemset/all/?topicSlugs=queue)\n",
        "4.   [More problems on Stacks - Leetcode](https://leetcode.com/problemset/all/?topicSlugs=stack)\n",
        "\n",
        "\n"
      ]
    }
  ]
}