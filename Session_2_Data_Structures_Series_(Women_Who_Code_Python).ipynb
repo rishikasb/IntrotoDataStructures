{
  "nbformat": 4,
  "nbformat_minor": 0,
  "metadata": {
    "colab": {
      "name": "Session #2: Data Structures Series (Women Who Code Python).ipynb",
      "provenance": [],
      "collapsed_sections": []
    },
    "kernelspec": {
      "name": "python3",
      "display_name": "Python 3"
    }
  },
  "cells": [
    {
      "cell_type": "markdown",
      "metadata": {
        "id": "unVdvwggA0Ur"
      },
      "source": [
        "# Intro to Data Structures: Ace the Technical Interview\n",
        "\n",
        "## Session 2: Python/Built-in Data Structures"
      ]
    },
    {
      "cell_type": "markdown",
      "metadata": {
        "id": "zB13Wc37BD5X"
      },
      "source": [
        "### Agenda for Today:\n",
        "\n",
        "\n",
        "*   Lists\n",
        "*   Tuples\n",
        "*   Dictionaries\n",
        "*   Sets\n",
        "*   Practice Interview Questions\n",
        "\n"
      ]
    },
    {
      "cell_type": "markdown",
      "metadata": {
        "id": "1xDhEZuaBOG5"
      },
      "source": [
        "\n",
        "\n",
        "---\n",
        "\n",
        "\n",
        "\n",
        "---\n",
        "\n"
      ]
    },
    {
      "cell_type": "markdown",
      "metadata": {
        "id": "hr467zapBLkZ"
      },
      "source": [
        "#### Lists:"
      ]
    },
    {
      "cell_type": "markdown",
      "metadata": {
        "id": "RgCU12lhWPS_"
      },
      "source": [
        "##### A quick example"
      ]
    },
    {
      "cell_type": "code",
      "metadata": {
        "id": "CBZDZVqLAus6",
        "colab": {
          "base_uri": "https://localhost:8080/"
        },
        "outputId": "c2c8a256-4219-4eaa-f10a-8018cc38b702"
      },
      "source": [
        "# Declare a list, named 'l' and print it out\n",
        "l = "
      ],
      "execution_count": null,
      "outputs": [
        {
          "output_type": "execute_result",
          "data": {
            "text/plain": [
              "[1, 2, 3]"
            ]
          },
          "metadata": {
            "tags": []
          },
          "execution_count": 14
        }
      ]
    },
    {
      "cell_type": "code",
      "metadata": {
        "id": "NviuA6rwBPUp",
        "colab": {
          "base_uri": "https://localhost:8080/"
        },
        "outputId": "270973b5-c5bd-4db5-a374-bbf05e14bd6a"
      },
      "source": [
        "# Find the first value in the list, print it out\n"
      ],
      "execution_count": null,
      "outputs": [
        {
          "output_type": "execute_result",
          "data": {
            "text/plain": [
              "1"
            ]
          },
          "metadata": {
            "tags": []
          },
          "execution_count": 15
        }
      ]
    },
    {
      "cell_type": "markdown",
      "metadata": {
        "id": "cvQVCPR1Wbrr"
      },
      "source": [
        "##### List Operations"
      ]
    },
    {
      "cell_type": "code",
      "metadata": {
        "id": "q0Qv207NWeCd"
      },
      "source": [
        "# Use the append method to add an item to the list\n"
      ],
      "execution_count": null,
      "outputs": []
    },
    {
      "cell_type": "code",
      "metadata": {
        "colab": {
          "base_uri": "https://localhost:8080/"
        },
        "id": "hL9a68ZFWjS0",
        "outputId": "b03fe43e-5712-4f53-b961-be592e714124"
      },
      "source": [
        "l"
      ],
      "execution_count": null,
      "outputs": [
        {
          "output_type": "execute_result",
          "data": {
            "text/plain": [
              "[1, 2, 3, 4]"
            ]
          },
          "metadata": {
            "tags": []
          },
          "execution_count": 17
        }
      ]
    },
    {
      "cell_type": "code",
      "metadata": {
        "colab": {
          "base_uri": "https://localhost:8080/"
        },
        "id": "hLiPhNfoWeAc",
        "outputId": "1570aa4a-fa1c-4780-ff8b-6dbe78825bcb"
      },
      "source": [
        "# Use the index method to search for an item in the list\n"
      ],
      "execution_count": null,
      "outputs": [
        {
          "output_type": "execute_result",
          "data": {
            "text/plain": [
              "1"
            ]
          },
          "metadata": {
            "tags": []
          },
          "execution_count": 18
        }
      ]
    },
    {
      "cell_type": "code",
      "metadata": {
        "colab": {
          "base_uri": "https://localhost:8080/"
        },
        "id": "HRleb8hnWzus",
        "outputId": "9874c777-f33f-4ab0-faa1-09cb94f6eb6a"
      },
      "source": [
        "# Use the pop method to eemove the last item of a list\n"
      ],
      "execution_count": null,
      "outputs": [
        {
          "output_type": "execute_result",
          "data": {
            "text/plain": [
              "4"
            ]
          },
          "metadata": {
            "tags": []
          },
          "execution_count": 19
        }
      ]
    },
    {
      "cell_type": "code",
      "metadata": {
        "colab": {
          "base_uri": "https://localhost:8080/"
        },
        "id": "EFmZaz7pW55F",
        "outputId": "f02e7ee0-8aa8-4a5d-dfae-280544f580f1"
      },
      "source": [
        "l"
      ],
      "execution_count": null,
      "outputs": [
        {
          "output_type": "execute_result",
          "data": {
            "text/plain": [
              "[1, 2, 3]"
            ]
          },
          "metadata": {
            "tags": []
          },
          "execution_count": 20
        }
      ]
    },
    {
      "cell_type": "code",
      "metadata": {
        "colab": {
          "base_uri": "https://localhost:8080/"
        },
        "id": "vA1KVJEDW7og",
        "outputId": "4749a6fa-bdde-47d5-a01e-b336fe331f56"
      },
      "source": [
        "# Use the count method to count the number of items of a kind in a list\n"
      ],
      "execution_count": null,
      "outputs": [
        {
          "output_type": "execute_result",
          "data": {
            "text/plain": [
              "1"
            ]
          },
          "metadata": {
            "tags": []
          },
          "execution_count": 21
        }
      ]
    },
    {
      "cell_type": "code",
      "metadata": {
        "colab": {
          "base_uri": "https://localhost:8080/"
        },
        "id": "Nu0iW6izXDE4",
        "outputId": "86ef8de2-a423-403f-c8cf-0a90d6aedbd5"
      },
      "source": [
        "# Add another occurrence of the number 2 to the list, try the count method again\n"
      ],
      "execution_count": null,
      "outputs": [
        {
          "output_type": "execute_result",
          "data": {
            "text/plain": [
              "2"
            ]
          },
          "metadata": {
            "tags": []
          },
          "execution_count": 22
        }
      ]
    },
    {
      "cell_type": "code",
      "metadata": {
        "colab": {
          "base_uri": "https://localhost:8080/"
        },
        "id": "BqRR9vL6XRaf",
        "outputId": "00f25548-4e5b-41a2-d3ba-970e489765b1"
      },
      "source": [
        "# Perform a shallow copy an existing list\n"
      ],
      "execution_count": null,
      "outputs": [
        {
          "output_type": "execute_result",
          "data": {
            "text/plain": [
              "[1, 2, 3, 2]"
            ]
          },
          "metadata": {
            "tags": []
          },
          "execution_count": 26
        }
      ]
    },
    {
      "cell_type": "code",
      "metadata": {
        "colab": {
          "base_uri": "https://localhost:8080/"
        },
        "id": "b36co7-TXh-2",
        "outputId": "c9fa5d83-9253-4d5b-ef85-392788596021"
      },
      "source": [
        "# Perform a deep copy of an existing list\n"
      ],
      "execution_count": null,
      "outputs": [
        {
          "output_type": "execute_result",
          "data": {
            "text/plain": [
              "[1, 2, 3, 2]"
            ]
          },
          "metadata": {
            "tags": []
          },
          "execution_count": 28
        }
      ]
    },
    {
      "cell_type": "code",
      "metadata": {
        "colab": {
          "base_uri": "https://localhost:8080/"
        },
        "id": "lrsA35xrYHB3",
        "outputId": "a513234c-9c85-482a-f9be-5e6815261ee4"
      },
      "source": [
        "# Use the sort() method to sort the items in a list\n"
      ],
      "execution_count": null,
      "outputs": [
        {
          "output_type": "execute_result",
          "data": {
            "text/plain": [
              "[1, 2, 2, 3]"
            ]
          },
          "metadata": {
            "tags": []
          },
          "execution_count": 29
        }
      ]
    },
    {
      "cell_type": "markdown",
      "metadata": {
        "id": "odrDvKXsBPsB"
      },
      "source": [
        "\n",
        "\n",
        "---\n",
        "\n",
        "\n",
        "\n",
        "---\n",
        "\n"
      ]
    },
    {
      "cell_type": "markdown",
      "metadata": {
        "id": "cb3ujLZIBVfI"
      },
      "source": [
        "#### Tuples:"
      ]
    },
    {
      "cell_type": "code",
      "metadata": {
        "id": "OLKCVfeEBVfI",
        "colab": {
          "base_uri": "https://localhost:8080/"
        },
        "outputId": "72b5df96-67e8-4275-fc10-d2e73c392b6f"
      },
      "source": [
        "#  Declare a tuple (using parentheses)\n",
        "colors =\n"
      ],
      "execution_count": null,
      "outputs": [
        {
          "output_type": "execute_result",
          "data": {
            "text/plain": [
              "('Red', 'Green', 'Blue')"
            ]
          },
          "metadata": {
            "tags": []
          },
          "execution_count": 1
        }
      ]
    },
    {
      "cell_type": "code",
      "metadata": {
        "id": "qz122KgVBVfI",
        "colab": {
          "base_uri": "https://localhost:8080/"
        },
        "outputId": "49ba34de-6468-4ec6-b07c-d7b83f579a05"
      },
      "source": [
        "# Add item to the tuple\n",
        "colors = "
      ],
      "execution_count": null,
      "outputs": [
        {
          "output_type": "execute_result",
          "data": {
            "text/plain": [
              "('Red', 'Green', 'Blue', 'Orange')"
            ]
          },
          "metadata": {
            "tags": []
          },
          "execution_count": 3
        }
      ]
    },
    {
      "cell_type": "code",
      "metadata": {
        "colab": {
          "base_uri": "https://localhost:8080/"
        },
        "id": "CBY3zlIur98X",
        "outputId": "7354955b-0050-47bf-de4a-a12cc7a25c63"
      },
      "source": [
        "# Access an item in the tuple\n",
        "print("
      ],
      "execution_count": null,
      "outputs": [
        {
          "output_type": "stream",
          "text": [
            "colors[0]:  Red\n"
          ],
          "name": "stdout"
        }
      ]
    },
    {
      "cell_type": "code",
      "metadata": {
        "colab": {
          "base_uri": "https://localhost:8080/"
        },
        "id": "qINNKR_LsOTe",
        "outputId": "6d22094a-7edd-4337-c5dd-49fce76356e5"
      },
      "source": [
        "# Update an existing tuple\n",
        "colors2 = \n",
        "colors3 = \n"
      ],
      "execution_count": null,
      "outputs": [
        {
          "output_type": "execute_result",
          "data": {
            "text/plain": [
              "('Red', 'Green', 'Blue', 'Orange', 'Purple', 'Pink', 'Brown')"
            ]
          },
          "metadata": {
            "tags": []
          },
          "execution_count": 7
        }
      ]
    },
    {
      "cell_type": "markdown",
      "metadata": {
        "id": "YO4CkQRrBVfJ"
      },
      "source": [
        "\n",
        "\n",
        "---\n",
        "\n",
        "\n",
        "\n",
        "---\n",
        "\n"
      ]
    },
    {
      "cell_type": "markdown",
      "metadata": {
        "id": "gJck4dXuBXl8"
      },
      "source": [
        "#### Dictionaries:"
      ]
    },
    {
      "cell_type": "code",
      "metadata": {
        "id": "ogbSkvh2BXl8",
        "colab": {
          "base_uri": "https://localhost:8080/"
        },
        "outputId": "9bdc2fc0-4432-4b05-ee39-e6a66dc71786"
      },
      "source": [
        "# Declare a new dictionary using square brackets\n",
        "myDict = \n"
      ],
      "execution_count": null,
      "outputs": [
        {
          "output_type": "execute_result",
          "data": {
            "text/plain": [
              "{'country': 'USA', 'name': 'Rishika', 'occupation': 'student'}"
            ]
          },
          "metadata": {
            "tags": []
          },
          "execution_count": 32
        }
      ]
    },
    {
      "cell_type": "code",
      "metadata": {
        "id": "j1Dlr1fLBXl8",
        "colab": {
          "base_uri": "https://localhost:8080/"
        },
        "outputId": "8e45126d-2416-4e4c-d3cc-87529349c481"
      },
      "source": [
        "# Access item from the dictionary\n",
        "print("
      ],
      "execution_count": null,
      "outputs": [
        {
          "output_type": "stream",
          "text": [
            "Rishika\n"
          ],
          "name": "stdout"
        }
      ]
    },
    {
      "cell_type": "code",
      "metadata": {
        "colab": {
          "base_uri": "https://localhost:8080/"
        },
        "id": "RR1nrsX_uc5o",
        "outputId": "3f9dcbff-bb72-4c8b-95bf-99b4592ebc44"
      },
      "source": [
        "# Access another item from the dictionary\n",
        "print("
      ],
      "execution_count": null,
      "outputs": [
        {
          "output_type": "stream",
          "text": [
            "USA\n"
          ],
          "name": "stdout"
        }
      ]
    },
    {
      "cell_type": "code",
      "metadata": {
        "colab": {
          "base_uri": "https://localhost:8080/"
        },
        "id": "CsQHgRUYuroI",
        "outputId": "a829319f-8fd3-4239-da48-8a67d097abab"
      },
      "source": [
        "# Modify item of the dictionary\n",
        "myDict["
      ],
      "execution_count": null,
      "outputs": [
        {
          "output_type": "execute_result",
          "data": {
            "text/plain": [
              "{'country': 'USA', 'name': 'Rishika', 'occupation': 'programmer'}"
            ]
          },
          "metadata": {
            "tags": []
          },
          "execution_count": 35
        }
      ]
    },
    {
      "cell_type": "code",
      "metadata": {
        "colab": {
          "base_uri": "https://localhost:8080/"
        },
        "id": "cUu9I2uLu7FM",
        "outputId": "d6e48fdd-e90d-4cc6-e7d4-dc41bebb4234"
      },
      "source": [
        "# Add item to the dictionary\n",
        "myDict["
      ],
      "execution_count": null,
      "outputs": [
        {
          "output_type": "execute_result",
          "data": {
            "text/plain": [
              "{'country': 'USA',\n",
              " 'name': 'Rishika',\n",
              " 'occupation': 'programmer',\n",
              " 'state': 'California'}"
            ]
          },
          "metadata": {
            "tags": []
          },
          "execution_count": 36
        }
      ]
    },
    {
      "cell_type": "code",
      "metadata": {
        "colab": {
          "base_uri": "https://localhost:8080/"
        },
        "id": "oP8V7h78vCqg",
        "outputId": "39b85374-f126-4ef5-d3a8-4f29b1648e3e"
      },
      "source": [
        "# Remove item from the dictionary\n",
        "myDict."
      ],
      "execution_count": null,
      "outputs": [
        {
          "output_type": "execute_result",
          "data": {
            "text/plain": [
              "{'name': 'Rishika', 'occupation': 'programmer', 'state': 'California'}"
            ]
          },
          "metadata": {
            "tags": []
          },
          "execution_count": 39
        }
      ]
    },
    {
      "cell_type": "markdown",
      "metadata": {
        "id": "S7h_Rj_7VZjX"
      },
      "source": [
        "#### Sets:"
      ]
    },
    {
      "cell_type": "code",
      "metadata": {
        "colab": {
          "base_uri": "https://localhost:8080/"
        },
        "id": "Krj_SmrxVZjb",
        "outputId": "23be4007-d594-4f85-c5e9-14e22a11d516"
      },
      "source": [
        "# Declare a new set using curly braces\n",
        "myset = "
      ],
      "execution_count": null,
      "outputs": [
        {
          "output_type": "execute_result",
          "data": {
            "text/plain": [
              "{1, 2, 3}"
            ]
          },
          "metadata": {
            "tags": []
          },
          "execution_count": 8
        }
      ]
    },
    {
      "cell_type": "code",
      "metadata": {
        "colab": {
          "base_uri": "https://localhost:8080/"
        },
        "id": "vFXq0p_YVZjb",
        "outputId": "58f87543-9251-46bb-f31f-1da43b2deaa2"
      },
      "source": [
        "# Find set size\n"
      ],
      "execution_count": null,
      "outputs": [
        {
          "output_type": "execute_result",
          "data": {
            "text/plain": [
              "3"
            ]
          },
          "metadata": {
            "tags": []
          },
          "execution_count": 13
        }
      ]
    },
    {
      "cell_type": "code",
      "metadata": {
        "colab": {
          "base_uri": "https://localhost:8080/"
        },
        "id": "GXFCbMJFtNI8",
        "outputId": "aa2d0fac-28a0-44df-be14-cf83e59b48f6"
      },
      "source": [
        "# Test for set membership\n"
      ],
      "execution_count": null,
      "outputs": [
        {
          "output_type": "execute_result",
          "data": {
            "text/plain": [
              "True"
            ]
          },
          "metadata": {
            "tags": []
          },
          "execution_count": 16
        }
      ]
    },
    {
      "cell_type": "code",
      "metadata": {
        "colab": {
          "base_uri": "https://localhost:8080/"
        },
        "id": "1E4N_akjtTbG",
        "outputId": "53fd7265-4af3-4968-dc4f-7344b45ed2bf"
      },
      "source": [
        ""
      ],
      "execution_count": null,
      "outputs": [
        {
          "output_type": "execute_result",
          "data": {
            "text/plain": [
              "False"
            ]
          },
          "metadata": {
            "tags": []
          },
          "execution_count": 17
        }
      ]
    },
    {
      "cell_type": "code",
      "metadata": {
        "colab": {
          "base_uri": "https://localhost:8080/"
        },
        "id": "xW0_fFGktSFh",
        "outputId": "1bbc2d48-15f9-49a6-cc15-0d0771ec0261"
      },
      "source": [
        "# Union of two sets\n",
        "set2 = \n",
        "union_set = \n"
      ],
      "execution_count": null,
      "outputs": [
        {
          "output_type": "execute_result",
          "data": {
            "text/plain": [
              "{1, 2, 3, 6, 7, 8}"
            ]
          },
          "metadata": {
            "tags": []
          },
          "execution_count": 20
        }
      ]
    },
    {
      "cell_type": "code",
      "metadata": {
        "colab": {
          "base_uri": "https://localhost:8080/"
        },
        "id": "mhsMGsuStjJD",
        "outputId": "1a6adf25-3dd1-45a3-848a-e7d1caa3c8ba"
      },
      "source": [
        "# Intersection of two sets\n",
        "intersection_set = "
      ],
      "execution_count": null,
      "outputs": [
        {
          "output_type": "execute_result",
          "data": {
            "text/plain": [
              "{1}"
            ]
          },
          "metadata": {
            "tags": []
          },
          "execution_count": 21
        }
      ]
    },
    {
      "cell_type": "code",
      "metadata": {
        "colab": {
          "base_uri": "https://localhost:8080/"
        },
        "id": "mEH3bCZoto-j",
        "outputId": "1e6554f6-a633-4c95-dcc9-cba32920edcf"
      },
      "source": [
        "# Find difference of two sets\n",
        "difference_set = "
      ],
      "execution_count": null,
      "outputs": [
        {
          "output_type": "execute_result",
          "data": {
            "text/plain": [
              "{2, 3}"
            ]
          },
          "metadata": {
            "tags": []
          },
          "execution_count": 22
        }
      ]
    },
    {
      "cell_type": "markdown",
      "metadata": {
        "id": "_yMhb9nHIFOy"
      },
      "source": [
        "#### Practice Interview Questions:"
      ]
    },
    {
      "cell_type": "markdown",
      "metadata": {
        "id": "hOIRCDALIJQW"
      },
      "source": [
        "Question #1: What will be the output of the following code?\n",
        "\n",
        "*init_tuple = ()*\n",
        "*print (init_tuple.__len__())*"
      ]
    },
    {
      "cell_type": "code",
      "metadata": {
        "colab": {
          "base_uri": "https://localhost:8080/"
        },
        "id": "5CDnZU27JP4j",
        "outputId": "2543096c-d625-49ab-cb69-40fd7036b5a0"
      },
      "source": [
        "init_tuple = ()\n",
        "print (init_tuple.__len__())"
      ],
      "execution_count": null,
      "outputs": [
        {
          "output_type": "stream",
          "text": [
            "0\n"
          ],
          "name": "stdout"
        }
      ]
    },
    {
      "cell_type": "markdown",
      "metadata": {
        "id": "H4RbNSm0JZ2C"
      },
      "source": [
        "Question #2: Which of the following statements given below is/are true?\n",
        "\n",
        "A. Tuples have structure, lists have an order.\n",
        "\n",
        "B. Tuples are homogeneous, lists are heterogeneous.\n",
        "\n",
        "C. Tuples are immutable, lists are mutable.\n",
        "\n",
        "D. All of them."
      ]
    },
    {
      "cell_type": "markdown",
      "metadata": {
        "id": "RuYg-adwJeeM"
      },
      "source": [
        "Question #3: What will be the output of the following code snippet?\n",
        "\n",
        "*a = {(1,2):1,(2,3):2}*\n",
        "*print(a[1,2])*"
      ]
    },
    {
      "cell_type": "code",
      "metadata": {
        "colab": {
          "base_uri": "https://localhost:8080/"
        },
        "id": "bLSX6Xe2Jpca",
        "outputId": "29807de7-ddb0-4776-cc9e-a3a0fd40457c"
      },
      "source": [
        "a = {(1,2):1,(2,3):2}\n",
        "print(a[1,2])"
      ],
      "execution_count": null,
      "outputs": [
        {
          "output_type": "stream",
          "text": [
            "1\n"
          ],
          "name": "stdout"
        }
      ]
    },
    {
      "cell_type": "markdown",
      "metadata": {
        "id": "SwrgkthpKC6t"
      },
      "source": [
        "Question #4: Say we declare a set like so:"
      ]
    },
    {
      "cell_type": "code",
      "metadata": {
        "colab": {
          "base_uri": "https://localhost:8080/"
        },
        "id": "jiO6cHlUKFv6",
        "outputId": "cdda3f75-0e6a-4c16-bbb6-9b5d01ceb093"
      },
      "source": [
        "my_set = {1, 3, 4, 5, 6}\n",
        "print(my_set)"
      ],
      "execution_count": null,
      "outputs": [
        {
          "output_type": "stream",
          "text": [
            "{1, 3, 4, 5, 6}\n"
          ],
          "name": "stdout"
        }
      ]
    },
    {
      "cell_type": "markdown",
      "metadata": {
        "id": "o8ZDVQaIKIJP"
      },
      "source": [
        "Now, we want to remove some elements. What will the output of both of these code snippets be?\n",
        "\n",
        "1.   my_set.remove(6)\n",
        "2.   my_set.remove(2)\n",
        "\n"
      ]
    },
    {
      "cell_type": "code",
      "metadata": {
        "colab": {
          "base_uri": "https://localhost:8080/"
        },
        "id": "xMK5RH-bKYUE",
        "outputId": "26645626-2b33-42b2-ba6a-2eef9a785786"
      },
      "source": [
        "my_set = {1, 3, 4, 5, 6}\n",
        "my_set.remove(6)\n",
        "print(my_set)"
      ],
      "execution_count": null,
      "outputs": [
        {
          "output_type": "stream",
          "text": [
            "{1, 3, 4, 5}\n"
          ],
          "name": "stdout"
        }
      ]
    },
    {
      "cell_type": "code",
      "metadata": {
        "colab": {
          "base_uri": "https://localhost:8080/",
          "height": 198
        },
        "id": "3U0lqziTKk16",
        "outputId": "764d2e99-36a2-4b7b-dd4f-656926d3a907"
      },
      "source": [
        "my_set = {1, 3, 4, 5, 6}\n",
        "my_set.remove(2)\n",
        "print(my_set)"
      ],
      "execution_count": null,
      "outputs": [
        {
          "output_type": "error",
          "ename": "KeyError",
          "evalue": "ignored",
          "traceback": [
            "\u001b[0;31m---------------------------------------------------------------------------\u001b[0m",
            "\u001b[0;31mKeyError\u001b[0m                                  Traceback (most recent call last)",
            "\u001b[0;32m<ipython-input-8-16180b15e93d>\u001b[0m in \u001b[0;36m<module>\u001b[0;34m()\u001b[0m\n\u001b[1;32m      1\u001b[0m \u001b[0mmy_set\u001b[0m \u001b[0;34m=\u001b[0m \u001b[0;34m{\u001b[0m\u001b[0;36m1\u001b[0m\u001b[0;34m,\u001b[0m \u001b[0;36m3\u001b[0m\u001b[0;34m,\u001b[0m \u001b[0;36m4\u001b[0m\u001b[0;34m,\u001b[0m \u001b[0;36m5\u001b[0m\u001b[0;34m,\u001b[0m \u001b[0;36m6\u001b[0m\u001b[0;34m}\u001b[0m\u001b[0;34m\u001b[0m\u001b[0;34m\u001b[0m\u001b[0m\n\u001b[0;32m----> 2\u001b[0;31m \u001b[0mmy_set\u001b[0m\u001b[0;34m.\u001b[0m\u001b[0mremove\u001b[0m\u001b[0;34m(\u001b[0m\u001b[0;36m2\u001b[0m\u001b[0;34m)\u001b[0m\u001b[0;34m\u001b[0m\u001b[0;34m\u001b[0m\u001b[0m\n\u001b[0m\u001b[1;32m      3\u001b[0m \u001b[0mprint\u001b[0m\u001b[0;34m(\u001b[0m\u001b[0mmy_set\u001b[0m\u001b[0;34m)\u001b[0m\u001b[0;34m\u001b[0m\u001b[0;34m\u001b[0m\u001b[0m\n",
            "\u001b[0;31mKeyError\u001b[0m: 2"
          ]
        }
      ]
    },
    {
      "cell_type": "markdown",
      "metadata": {
        "id": "xe9kUWxsBXl8"
      },
      "source": [
        "\n",
        "\n",
        "---\n",
        "\n",
        "\n",
        "\n",
        "---\n",
        "\n"
      ]
    },
    {
      "cell_type": "markdown",
      "metadata": {
        "id": "1Pp_DsgtBZFR"
      },
      "source": [
        "#### References & Further Reading:"
      ]
    },
    {
      "cell_type": "markdown",
      "metadata": {
        "id": "ol0UBt7PBdEn"
      },
      "source": [
        "\n",
        "1.   LeetCode (easy-level): https://leetcode.com/explore/interview/card/top-interview-questions-easy/\n",
        "2.   Sets in Python (https://www.programiz.com/python-programming/set)\n",
        "3.   Lists, Tuples, and Dictionaries in Python (https://www.techbeamers.com/python-programming-questions-list-tuple-dictionary/)\n",
        "\n"
      ]
    }
  ]
}