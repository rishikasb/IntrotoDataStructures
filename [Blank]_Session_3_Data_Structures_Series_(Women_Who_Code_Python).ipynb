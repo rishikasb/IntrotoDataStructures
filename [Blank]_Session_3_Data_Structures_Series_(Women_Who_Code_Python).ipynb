{
  "nbformat": 4,
  "nbformat_minor": 0,
  "metadata": {
    "colab": {
      "name": "[Blank] Session #3: Data Structures Series (Women Who Code Python).ipynb",
      "provenance": [],
      "collapsed_sections": []
    },
    "kernelspec": {
      "name": "python3",
      "display_name": "Python 3"
    },
    "language_info": {
      "name": "python"
    }
  },
  "cells": [
    {
      "cell_type": "markdown",
      "metadata": {
        "id": "ex86cb_vHZ82"
      },
      "source": [
        "# Intro to Data Structures: Ace the Technical Interview\n",
        "\n",
        "## Session 3: Arrays and Matrices\n"
      ]
    },
    {
      "cell_type": "markdown",
      "metadata": {
        "id": "X9N1rlQiHLPP"
      },
      "source": [
        "### Agenda for Today:\n",
        "\n",
        "* Arrays \n",
        "* Metrics"
      ]
    },
    {
      "cell_type": "code",
      "metadata": {
        "id": "OckNjtKzFkFW"
      },
      "source": [
        "# Python library numpy will be called as np\n",
        "import numpy as np"
      ],
      "execution_count": null,
      "outputs": []
    },
    {
      "cell_type": "markdown",
      "metadata": {
        "id": "f06dgYgJe7DV"
      },
      "source": [
        "#### Array Method (Revision of list)"
      ]
    },
    {
      "cell_type": "code",
      "metadata": {
        "colab": {
          "base_uri": "https://localhost:8080/"
        },
        "id": "lSUkLjHKdmm-",
        "outputId": "ee165e5a-0ff2-4b69-dd8e-4f7892bd2573"
      },
      "source": [
        "# Define new list named 'a'\n",
        "\n",
        "# print the array"
      ],
      "execution_count": null,
      "outputs": [
        {
          "output_type": "stream",
          "text": [
            "[64, 32, 2, 4, 8, 256]\n"
          ],
          "name": "stdout"
        }
      ]
    },
    {
      "cell_type": "code",
      "metadata": {
        "id": "rRdpSIjciRIU"
      },
      "source": [
        "# add an element 128 on the list\n",
        "\n"
      ],
      "execution_count": null,
      "outputs": []
    },
    {
      "cell_type": "code",
      "metadata": {
        "colab": {
          "base_uri": "https://localhost:8080/"
        },
        "id": "dizJWX9Oi8Hh",
        "outputId": "4a636d2e-1ce0-40c1-d1f1-c959c4e60143"
      },
      "source": [
        "# remove the 5th element on the list\n"
      ],
      "execution_count": null,
      "outputs": [
        {
          "output_type": "stream",
          "text": [
            "[64, 32, 2, 4]\n"
          ],
          "name": "stdout"
        }
      ]
    },
    {
      "cell_type": "code",
      "metadata": {
        "colab": {
          "base_uri": "https://localhost:8080/"
        },
        "id": "JXnfuGK8nqY0",
        "outputId": "2ce0ed00-aa2e-4f0d-f475-8928403d19ef"
      },
      "source": [
        "# reverse the list\n"
      ],
      "execution_count": null,
      "outputs": [
        {
          "output_type": "stream",
          "text": [
            "[256, 8, 4, 2, 32, 64]\n"
          ],
          "name": "stdout"
        }
      ]
    },
    {
      "cell_type": "markdown",
      "metadata": {
        "id": "lTcyFXiAPfHF"
      },
      "source": [
        "#### Array  \n"
      ]
    },
    {
      "cell_type": "code",
      "metadata": {
        "colab": {
          "base_uri": "https://localhost:8080/"
        },
        "id": "uGj2lkjvQgVI",
        "outputId": "bb0c8a8f-ef08-4951-d3e0-1ca9dc087e72"
      },
      "source": [
        "# create a random array named 'arr1'\n",
        "\n",
        "# print datatype of variable arr\n",
        "\n",
        "# check the 4th element in array\n"
      ],
      "execution_count": null,
      "outputs": [
        {
          "output_type": "stream",
          "text": [
            "<class 'numpy.ndarray'>\n",
            "First element of the array: 4\n"
          ],
          "name": "stdout"
        }
      ]
    },
    {
      "cell_type": "code",
      "metadata": {
        "colab": {
          "base_uri": "https://localhost:8080/"
        },
        "id": "vHOpdlpLRtqu",
        "outputId": "00161fba-e6f8-4965-a2bd-0006a4304ffa"
      },
      "source": [
        "# create a new array (arr2) and add the 2 arrays together (arr3)\n",
        "arr2 = np.array([3,6,7,8,2])\n",
        "arr3 = arr1 + arr2\n",
        "print('New array:', arr3)"
      ],
      "execution_count": null,
      "outputs": [
        {
          "output_type": "stream",
          "text": [
            "Combined array is: [67 38  9 12 10]\n"
          ],
          "name": "stdout"
        }
      ]
    },
    {
      "cell_type": "code",
      "metadata": {
        "id": "FB7cgyeBVz1d"
      },
      "source": [
        "# create a new array (arr4) and multiply the 2 arrays together (arr5)\n"
      ],
      "execution_count": null,
      "outputs": []
    },
    {
      "cell_type": "code",
      "metadata": {
        "id": "PJ2XDJ8mpxFG"
      },
      "source": [
        "arr_new = arr1.extend([])"
      ],
      "execution_count": null,
      "outputs": []
    },
    {
      "cell_type": "markdown",
      "metadata": {
        "id": "VolJY16ZOdGp"
      },
      "source": [
        "#### Matrices\n"
      ]
    },
    {
      "cell_type": "code",
      "metadata": {
        "id": "gCT9J5seIKtX"
      },
      "source": [
        "# create a 1-D array with integers only using function random.randint\n"
      ],
      "execution_count": null,
      "outputs": []
    },
    {
      "cell_type": "code",
      "metadata": {
        "id": "FYemmWTZKYZW"
      },
      "source": [
        "# create a 2-D array with integers\n"
      ],
      "execution_count": null,
      "outputs": []
    },
    {
      "cell_type": "code",
      "metadata": {
        "id": "8VhI3-fLLfhk"
      },
      "source": [
        "# create a 3-D array with random.rand\n"
      ],
      "execution_count": null,
      "outputs": []
    },
    {
      "cell_type": "markdown",
      "metadata": {
        "id": "MLvIgsgname7"
      },
      "source": [
        "####Technical Question on Array\n",
        "\n",
        "https://leetcode.com/problems/single-number/  \n",
        "\n",
        "<font color=\"skyblue\">  \n",
        "__Problem:__  \n",
        "_Given a non-empty array of integers nums, every element appears twice except for one. Find that single one._ <font>  \n",
        " \n",
        "__Chain of Thought To Solve the Problem__  \n",
        "-  Iterate through the array of elements/numbers\n",
        "-  Check if the element/number does not exist in the dictionary\n",
        "-  If it does not, add the element/number and value count of 1\n",
        "-  If it does, increment the value count\n",
        "- Iterate over the dictionary and return the number(key) whose value(count) is 1\n",
        "   "
      ]
    },
    {
      "cell_type": "code",
      "metadata": {
        "id": "-vXK44CeT0on"
      },
      "source": [
        "def single_number(): "
      ],
      "execution_count": null,
      "outputs": []
    }
  ]
}