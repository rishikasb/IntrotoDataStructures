{
  "nbformat": 4,
  "nbformat_minor": 0,
  "metadata": {
    "colab": {
      "name": "Session #3: Data Structures Series (Women Who Code Python).ipynb",
      "provenance": [],
      "collapsed_sections": []
    },
    "kernelspec": {
      "name": "python3",
      "display_name": "Python 3"
    },
    "language_info": {
      "name": "python"
    }
  },
  "cells": [
    {
      "cell_type": "markdown",
      "metadata": {
        "id": "ex86cb_vHZ82"
      },
      "source": [
        "# Intro to Data Structures: Ace the Technical Interview\n",
        "\n",
        "## Session 3: Arrays and Matrices\n"
      ]
    },
    {
      "cell_type": "markdown",
      "metadata": {
        "id": "X9N1rlQiHLPP"
      },
      "source": [
        "### Agenda for Today:\n",
        "\n",
        "* Arrays \n",
        "* Metrics"
      ]
    },
    {
      "cell_type": "code",
      "metadata": {
        "id": "OckNjtKzFkFW"
      },
      "source": [
        "# Python library numpy will be called as np\n",
        "import numpy as np"
      ],
      "execution_count": null,
      "outputs": []
    },
    {
      "cell_type": "markdown",
      "metadata": {
        "id": "f06dgYgJe7DV"
      },
      "source": [
        "#### Array Method (Revision of list)"
      ]
    },
    {
      "cell_type": "code",
      "metadata": {
        "colab": {
          "base_uri": "https://localhost:8080/"
        },
        "id": "lSUkLjHKdmm-",
        "outputId": "62971c13-b167-403a-a46c-ce5a8ae564ad"
      },
      "source": [
        "a = [64,32,2,4,8,256]\n",
        "print(a)"
      ],
      "execution_count": null,
      "outputs": [
        {
          "output_type": "stream",
          "text": [
            "[64, 32, 2, 4, 8, 256]\n"
          ],
          "name": "stdout"
        }
      ]
    },
    {
      "cell_type": "code",
      "metadata": {
        "id": "rRdpSIjciRIU"
      },
      "source": [
        "# add an element 128 on the list\n",
        "a.append(128)\n",
        "print(a)"
      ],
      "execution_count": null,
      "outputs": []
    },
    {
      "cell_type": "code",
      "metadata": {
        "colab": {
          "base_uri": "https://localhost:8080/"
        },
        "id": "dizJWX9Oi8Hh",
        "outputId": "4a636d2e-1ce0-40c1-d1f1-c959c4e60143"
      },
      "source": [
        "# remove the 5th element on the list\n",
        "a.pop(4)\n",
        "print(a)"
      ],
      "execution_count": null,
      "outputs": [
        {
          "output_type": "stream",
          "text": [
            "[64, 32, 2, 4]\n"
          ],
          "name": "stdout"
        }
      ]
    },
    {
      "cell_type": "code",
      "metadata": {
        "colab": {
          "base_uri": "https://localhost:8080/",
          "height": 197
        },
        "id": "JXnfuGK8nqY0",
        "outputId": "a7a0cfe3-59bd-4aaa-dea6-2ced1c14fc1c"
      },
      "source": [
        "# reverse the list\n",
        "a.reverse()\n",
        "print(a)\n"
      ],
      "execution_count": null,
      "outputs": [
        {
          "output_type": "error",
          "ename": "NameError",
          "evalue": "ignored",
          "traceback": [
            "\u001b[0;31m---------------------------------------------------------------------------\u001b[0m",
            "\u001b[0;31mNameError\u001b[0m                                 Traceback (most recent call last)",
            "\u001b[0;32m<ipython-input-2-f2b9480e4dd9>\u001b[0m in \u001b[0;36m<module>\u001b[0;34m()\u001b[0m\n\u001b[1;32m      1\u001b[0m \u001b[0;31m# reverse the list\u001b[0m\u001b[0;34m\u001b[0m\u001b[0;34m\u001b[0m\u001b[0;34m\u001b[0m\u001b[0m\n\u001b[0;32m----> 2\u001b[0;31m \u001b[0ma\u001b[0m\u001b[0;34m.\u001b[0m\u001b[0mreverse\u001b[0m\u001b[0;34m(\u001b[0m\u001b[0;34m)\u001b[0m\u001b[0;34m\u001b[0m\u001b[0;34m\u001b[0m\u001b[0m\n\u001b[0m\u001b[1;32m      3\u001b[0m \u001b[0mprint\u001b[0m\u001b[0;34m(\u001b[0m\u001b[0ma\u001b[0m\u001b[0;34m)\u001b[0m\u001b[0;34m\u001b[0m\u001b[0;34m\u001b[0m\u001b[0m\n",
            "\u001b[0;31mNameError\u001b[0m: name 'a' is not defined"
          ]
        }
      ]
    },
    {
      "cell_type": "markdown",
      "metadata": {
        "id": "lTcyFXiAPfHF"
      },
      "source": [
        "#### Array  \n"
      ]
    },
    {
      "cell_type": "code",
      "metadata": {
        "colab": {
          "base_uri": "https://localhost:8080/"
        },
        "id": "uGj2lkjvQgVI",
        "outputId": "bb0c8a8f-ef08-4951-d3e0-1ca9dc087e72"
      },
      "source": [
        "# create a random array\n",
        "arr1 = np.array([64,32,2,4,8])\n",
        "print(type(arr1)) # print datatype of variable arr\n",
        "print('First element of the array:',arr1[3])  # check the 4th element in array\n"
      ],
      "execution_count": null,
      "outputs": [
        {
          "output_type": "stream",
          "text": [
            "<class 'numpy.ndarray'>\n",
            "First element of the array: 4\n"
          ],
          "name": "stdout"
        }
      ]
    },
    {
      "cell_type": "code",
      "metadata": {
        "colab": {
          "base_uri": "https://localhost:8080/"
        },
        "id": "vHOpdlpLRtqu",
        "outputId": "00161fba-e6f8-4965-a2bd-0006a4304ffa"
      },
      "source": [
        "# create a new array and add the 2 arrays togther\n",
        "arr2 = np.array([3,6,7,8,2])\n",
        "arr3 = arr1 + arr2\n",
        "print('New array:', arr3)"
      ],
      "execution_count": null,
      "outputs": [
        {
          "output_type": "stream",
          "text": [
            "Combined array is: [67 38  9 12 10]\n"
          ],
          "name": "stdout"
        }
      ]
    },
    {
      "cell_type": "code",
      "metadata": {
        "id": "FB7cgyeBVz1d"
      },
      "source": [
        "# create a new array and multiply the 2 arrays together\n",
        "arr4 = np.array([2,2,2,2,2])\n",
        "arr5 = arr1 * arr4\n",
        "print('New array:', arr5)"
      ],
      "execution_count": null,
      "outputs": []
    },
    {
      "cell_type": "code",
      "metadata": {
        "id": "PJ2XDJ8mpxFG"
      },
      "source": [
        "arr_new = arr1.extend([])"
      ],
      "execution_count": null,
      "outputs": []
    },
    {
      "cell_type": "markdown",
      "metadata": {
        "id": "VolJY16ZOdGp"
      },
      "source": [
        "#### Matrices\n"
      ]
    },
    {
      "cell_type": "code",
      "metadata": {
        "id": "gCT9J5seIKtX",
        "colab": {
          "base_uri": "https://localhost:8080/"
        },
        "outputId": "975a6142-170e-4921-cade-96c104405fd1"
      },
      "source": [
        "# create a 1-D array with integers only using function random.randint\n",
        "mat1d = np.random.randint(low=5,high=20, size=10)\n",
        "print('1-D array is {} and its shape is {}'.format(mat1d, mat1d.shape))"
      ],
      "execution_count": null,
      "outputs": [
        {
          "output_type": "stream",
          "text": [
            "1-D array is [17  7 13  7 14 14 14 12  8  6] and its shape is (10,)\n"
          ],
          "name": "stdout"
        }
      ]
    },
    {
      "cell_type": "code",
      "metadata": {
        "id": "FYemmWTZKYZW",
        "colab": {
          "base_uri": "https://localhost:8080/"
        },
        "outputId": "338e9c16-5ddc-493e-ac88-fe43d9acde3b"
      },
      "source": [
        "# create a 2-D array with integers\n",
        "mat2d = np.random.randint(low=0, high=5, size=(3,2))\n",
        "print('2-D array: \\n {}\\ndimension is {}\\nshape is {}'.format(mat2d, mat2d.ndim, mat2d.shape))"
      ],
      "execution_count": null,
      "outputs": [
        {
          "output_type": "stream",
          "text": [
            "2-D array: \n",
            " [[4 0]\n",
            " [0 0]\n",
            " [4 2]]\n",
            "dimension is 2\n",
            "shape is (3, 2)\n"
          ],
          "name": "stdout"
        }
      ]
    },
    {
      "cell_type": "code",
      "metadata": {
        "id": "8VhI3-fLLfhk"
      },
      "source": [
        "# create a 3-D array with random.rand\n",
        "mat3d = np.random.rand(2,3,3)\n",
        "print('3-D array \\n {}\\ndimension is {}\\nshape is {}'.format(mat3d, mat3d.ndim, mat3d.shape))"
      ],
      "execution_count": null,
      "outputs": []
    },
    {
      "cell_type": "markdown",
      "metadata": {
        "id": "MLvIgsgname7"
      },
      "source": [
        "####Technical Question on Array\n",
        "\n",
        "https://leetcode.com/problems/single-number/  \n",
        "\n",
        "<font color=\"skyblue\">  \n",
        "__Problem:__  \n",
        "_Given a non-empty array of integers nums, every element appears twice except for one. Find that single one._ <font>  \n",
        " \n",
        "__Chain of Thought To Solve the Problem__  \n",
        "-  Iterate through the array of elements/numbers\n",
        "-  Check if the element/number does not exist in the dictionary\n",
        "-  If it does not, add the element/number and value count of 1\n",
        "-  If it does, increment the value count\n",
        "- Iterate over the dictionary and return the number(key) whose value(count) is 1\n",
        "   "
      ]
    },
    {
      "cell_type": "code",
      "metadata": {
        "id": "-vXK44CeT0on"
      },
      "source": [
        "# nums = [1,2,1,2,4]\n",
        "def single_number(nums): \n",
        "    my_dict = {}\n",
        "\n",
        "    for num in nums:\n",
        "        if num not in my_dict:\n",
        "            my_dict[num] = 1\n",
        "        else:\n",
        "            my_dict[num] += 1\n",
        "\n",
        "    print(my_dict)\n",
        "    for element, value in my_dict.items():\n",
        "        if value==1:\n",
        "            return element\n",
        "\n",
        "single_number([1,2,1,2,4])"
      ],
      "execution_count": null,
      "outputs": []
    }
  ]
}