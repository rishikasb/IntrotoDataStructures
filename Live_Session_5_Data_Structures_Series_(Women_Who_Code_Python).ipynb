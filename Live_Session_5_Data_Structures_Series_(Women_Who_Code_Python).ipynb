{
  "nbformat": 4,
  "nbformat_minor": 0,
  "metadata": {
    "colab": {
      "name": "Live Session #5: Data Structures Series (Women Who Code Python).ipynb",
      "provenance": [],
      "collapsed_sections": []
    },
    "kernelspec": {
      "name": "python3",
      "display_name": "Python 3"
    },
    "language_info": {
      "name": "python"
    }
  },
  "cells": [
    {
      "cell_type": "markdown",
      "metadata": {
        "id": "7QfRFpXCTnbX"
      },
      "source": [
        "# Intro to Data Structures: Ace the Technical Interview\n",
        "\n",
        "## Session 5: Linked Lists"
      ]
    },
    {
      "cell_type": "markdown",
      "metadata": {
        "id": "vdBW00qXTtzx"
      },
      "source": [
        "### Agenda for Today:\n",
        "\n",
        "\n",
        "*   Singly Linked Lists\n",
        "*   Insertion\n",
        "*   Deletion\n",
        "*   Practice Question: Reverse a Linked List\n",
        "\n"
      ]
    },
    {
      "cell_type": "markdown",
      "metadata": {
        "id": "wpRNgp9nTzg4"
      },
      "source": [
        "\n",
        "\n",
        "---\n",
        "\n",
        "\n",
        "\n",
        "---\n",
        "\n"
      ]
    },
    {
      "cell_type": "markdown",
      "metadata": {
        "id": "-5Ya0UGlT5oj"
      },
      "source": [
        "#### Singly Linked Lists:"
      ]
    },
    {
      "cell_type": "code",
      "metadata": {
        "id": "Ksaw5SLzTSMO"
      },
      "source": [
        "# Create a Class to represent an Element or Node of a Linked List\n",
        "\n",
        "class Node:\n",
        "  def __init__(self, data=None):\n",
        "\n",
        "    "
      ],
      "execution_count": null,
      "outputs": []
    },
    {
      "cell_type": "code",
      "metadata": {
        "id": "HB5gZevX3Rn8"
      },
      "source": [
        "# Create a Class to represent a Singly Linked List\n",
        "\n",
        "# Add a function to traverse the List and print its elements\n",
        "\n",
        "class SinglyLinkedList:\n",
        "  def __init__(self,data=None):\n",
        "\n",
        "  \n",
        "  def printList(self):\n"
      ],
      "execution_count": null,
      "outputs": []
    },
    {
      "cell_type": "code",
      "metadata": {
        "id": "J68KFPYJCqGb"
      },
      "source": [
        "# Create an Instance of the Linked List\n",
        "\n",
        "\n",
        "# Print the Linked List\n"
      ],
      "execution_count": null,
      "outputs": []
    },
    {
      "cell_type": "code",
      "metadata": {
        "id": "VdCXr2PxC1Mw"
      },
      "source": [
        "# Create a Node to represent the head of the Linked List\n",
        "\n",
        "\n",
        "# Print the Linked List\n"
      ],
      "execution_count": null,
      "outputs": []
    },
    {
      "cell_type": "markdown",
      "metadata": {
        "id": "BKxG6wjOT-Bb"
      },
      "source": [
        "\n",
        "\n",
        "---\n",
        "\n",
        "\n",
        "\n",
        "---\n",
        "\n"
      ]
    },
    {
      "cell_type": "markdown",
      "metadata": {
        "id": "13EoG-b1T_k8"
      },
      "source": [
        "#### Insertion:"
      ]
    },
    {
      "cell_type": "code",
      "metadata": {
        "id": "GS14mvtxAsdT"
      },
      "source": [
        "class SinglyLinkedList:\n",
        "  def __init__(self):\n",
        "    self.head = None\n",
        "    self.length = 0\n",
        "\n",
        "  def insertBeginning(self,data):\n",
        "    # A function to insert at the Beginning\n",
        "    \n",
        "    \n",
        "\n",
        "  def insertEnd(self,data):\n",
        "    # A function to insert at the End\n",
        "\n",
        "\n",
        "\n",
        "  def insertAtPosition(self,data,position):\n",
        "    # A function to insert at a given position\n",
        "\n",
        "\n",
        "\n",
        "  \n",
        "  def printList(self):\n",
        "    ptr = self.head\n",
        "\n",
        "    while ptr is not None:\n",
        "      print(ptr.data,end=' -> ')\n",
        "      ptr = ptr.next\n",
        "\n",
        "    print('NULL')\n"
      ],
      "execution_count": null,
      "outputs": []
    },
    {
      "cell_type": "code",
      "metadata": {
        "id": "_zu-ZUGhT-mg"
      },
      "source": [
        "# Create a instance of the Singly Linked List\n",
        "linkedlist = SinglyLinkedList()\n",
        "\n",
        "# Insert an element at the beginning\n",
        "linkedlist.insertBeginning(1)\n",
        "\n",
        "# Print the Linked List\n",
        "linkedlist.printList()"
      ],
      "execution_count": null,
      "outputs": []
    },
    {
      "cell_type": "code",
      "metadata": {
        "id": "Dcuc-CfHBL16"
      },
      "source": [
        "# Insert Elements at the end of the Linked List\n",
        "linkedlist.insertEnd(2)\n",
        "linkedlist.insertEnd(3)\n",
        "\n",
        "# Print the Linked List\n",
        "linkedlist.printList()"
      ],
      "execution_count": null,
      "outputs": []
    },
    {
      "cell_type": "code",
      "metadata": {
        "id": "Fk04tFNKBPu-"
      },
      "source": [
        "# Insert Elements at a given position\n",
        "linkedlist.insertAtPosition(1.5,2)\n",
        "\n",
        "# Print the Linked List\n",
        "linkedlist.printList()"
      ],
      "execution_count": null,
      "outputs": []
    },
    {
      "cell_type": "markdown",
      "metadata": {
        "id": "KG0Ru0MjUChz"
      },
      "source": [
        "\n",
        "\n",
        "---\n",
        "\n",
        "\n",
        "\n",
        "---\n",
        "\n"
      ]
    },
    {
      "cell_type": "markdown",
      "metadata": {
        "id": "7oMRijHDAyix"
      },
      "source": [
        "### Deletion:"
      ]
    },
    {
      "cell_type": "code",
      "metadata": {
        "id": "Ph4CYw_GA38v"
      },
      "source": [
        "class SinglyLinkedList:\n",
        "  def __init__(self):\n",
        "    self.head = None\n",
        "   \n",
        "  def insertBeginning(self,data):\n",
        "    # A function to insert at the Beginning\n",
        "    \n",
        "    new_node = Node(data)\n",
        "    new_node.next = self.head\n",
        "    self.head = new_node\n",
        "\n",
        "  def insertEnd(self,data):\n",
        "    # A function to insert at the End\n",
        "\n",
        "    new_node = Node(data)\n",
        "\n",
        "    ptr = self.head\n",
        "    while ptr.next is not None:\n",
        "      ptr = ptr.next\n",
        "    \n",
        "    ptr.next = new_node\n",
        "\n",
        "\n",
        "  def insertAtPosition(self,data,position):\n",
        "    # A function to insert at a given position\n",
        "\n",
        "    new_node = Node(data)\n",
        "\n",
        "    ptr = self.head\n",
        "    count = 1\n",
        "\n",
        "    while count<position-1:\n",
        "      ptr = ptr.next\n",
        "    \n",
        "    new_node.next = ptr.next\n",
        "    ptr.next = new_node\n",
        "\n",
        "  \n",
        "  def printList(self):\n",
        "    ptr = self.head\n",
        "\n",
        "    while ptr is not None:\n",
        "      print(ptr.data,end=' -> ')\n",
        "      ptr = ptr.next\n",
        "\n",
        "    print('NULL')\n",
        "\n",
        "\n",
        "  # Delete a Node by locating the node through its value\n",
        "  def deleteNodeValue(self,value):\n",
        "\n",
        "  \n",
        "  # Delete a Node by locating the node by it's position\n",
        "  def deleteNodeatPosition(self,position):\n",
        "\n"
      ],
      "execution_count": null,
      "outputs": []
    },
    {
      "cell_type": "code",
      "metadata": {
        "id": "7UFTBBbGCRZm"
      },
      "source": [
        "# Create a instance of the Singly Linked List\n",
        "linkedlist = SinglyLinkedList()\n",
        "\n",
        "# Insert an element at the beginning\n",
        "linkedlist.insertBeginning(1)\n",
        "linkedlist.insertBeginning(2)\n",
        "linkedlist.insertBeginning(3)\n",
        "linkedlist.insertBeginning(4)\n",
        "linkedlist.insertBeginning(5)\n",
        "\n",
        "# Print the Linked List\n",
        "linkedlist.printList()"
      ],
      "execution_count": null,
      "outputs": []
    },
    {
      "cell_type": "code",
      "metadata": {
        "id": "goX0K0VbBIc4"
      },
      "source": [
        "# Delete a Node\n",
        "linkedlist.deleteNodeatPosition(3)\n",
        "\n",
        "# Print the Linked List\n",
        "linkedlist.printList()"
      ],
      "execution_count": null,
      "outputs": []
    },
    {
      "cell_type": "code",
      "metadata": {
        "id": "LTQhQuCAEaHE"
      },
      "source": [
        "linkedlist.deleteNodeValue(2)\n",
        "\n",
        "linkedlist.printList()"
      ],
      "execution_count": null,
      "outputs": []
    },
    {
      "cell_type": "markdown",
      "metadata": {
        "id": "p0ow6GaxEGI_"
      },
      "source": [
        "\n",
        "\n",
        "---\n",
        "\n",
        "\n",
        "\n",
        "---\n",
        "\n"
      ]
    },
    {
      "cell_type": "markdown",
      "metadata": {
        "id": "ARrtPuWPEI13"
      },
      "source": [
        "### Practice Question: Reversing a Linked List"
      ]
    },
    {
      "cell_type": "code",
      "metadata": {
        "id": "rex5BmaFGs1c"
      },
      "source": [
        "# The task is to reverse a Singly Linked List\n",
        "# Points to remember:\n",
        "#     * We can access the Linked List through the HEAD\n",
        "#     * Each node has a pointer only to the next node"
      ],
      "execution_count": null,
      "outputs": []
    },
    {
      "cell_type": "code",
      "metadata": {
        "id": "O1pFTjMRHcUM"
      },
      "source": [
        "\n"
      ],
      "execution_count": null,
      "outputs": []
    },
    {
      "cell_type": "code",
      "metadata": {
        "id": "xe9tDdeZ4Hwv"
      },
      "source": [
        "# ![picture](https://media.geeksforgeeks.org/wp-content/cdn-uploads/RGIF2.gif)"
      ],
      "execution_count": null,
      "outputs": []
    },
    {
      "cell_type": "code",
      "metadata": {
        "id": "dtQ7iMBlGqGC"
      },
      "source": [
        "def reverse():\n",
        "\n",
        "    "
      ],
      "execution_count": null,
      "outputs": []
    },
    {
      "cell_type": "code",
      "metadata": {
        "id": "lhisrO4GETIJ"
      },
      "source": [
        "class SinglyLinkedList:\n",
        "  def __init__(self):\n",
        "    self.head = None\n",
        "   \n",
        "  def insertBeginning(self,data):\n",
        "    # A function to insert at the Beginning\n",
        "    \n",
        "    new_node = Node(data)\n",
        "    new_node.next = self.head\n",
        "    self.head = new_node\n",
        "\n",
        "  def printList(self):\n",
        "    ptr = self.head\n",
        "\n",
        "    while ptr is not None:\n",
        "      print(ptr.data,end=' -> ')\n",
        "      ptr = ptr.next\n",
        "\n",
        "    print('NULL')\n",
        "\n",
        "\n",
        "  def reverse(self):\n",
        "\n"
      ],
      "execution_count": null,
      "outputs": []
    },
    {
      "cell_type": "code",
      "metadata": {
        "id": "njIz65IKF8Bq"
      },
      "source": [
        "# Create a instance of the Singly Linked List\n",
        "linkedlist = SinglyLinkedList()\n",
        "\n",
        "# Insert an element at the beginning\n",
        "linkedlist.insertBeginning(1)\n",
        "linkedlist.insertBeginning(2)\n",
        "linkedlist.insertBeginning(3)\n",
        "linkedlist.insertBeginning(4)\n",
        "linkedlist.insertBeginning(5)\n",
        "\n",
        "# Print the Linked List\n"
      ],
      "execution_count": null,
      "outputs": []
    },
    {
      "cell_type": "code",
      "metadata": {
        "id": "uyk62TNeJpDD"
      },
      "source": [
        "# Reverse the Linked List\n",
        "\n",
        "\n",
        "# Print the Linked List\n"
      ],
      "execution_count": null,
      "outputs": []
    },
    {
      "cell_type": "markdown",
      "metadata": {
        "id": "PafeVhR_UHdz"
      },
      "source": [
        "#### Interview Questions & Further Reading:"
      ]
    },
    {
      "cell_type": "markdown",
      "metadata": {
        "id": "N9x8d-KfUL3D"
      },
      "source": [
        "\n",
        "\n",
        "1.   [Detect a loop in linked list](https://leetcode.com/problems/linked-list-cycle/)\n",
        "2.   [Find the middle element of a Linked List](https://leetcode.com/problems/middle-of-the-linked-list/)\n",
        "3.   [Check if the Linked List is a palindrome](https://leetcode.com/problems/palindrome-linked-list/)\n",
        "\n",
        "\n"
      ]
    }
  ]
}